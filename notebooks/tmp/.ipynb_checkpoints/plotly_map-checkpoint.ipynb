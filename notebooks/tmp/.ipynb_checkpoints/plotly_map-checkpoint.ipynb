{
 "cells": [
  {
   "cell_type": "code",
   "execution_count": 1,
   "metadata": {},
   "outputs": [],
   "source": [
    "import plotly.plotly as py\n",
    "import plotly.graph_objs as go\n",
    "from plotly.offline import download_plotlyjs, init_notebook_mode, plot, iplot\n",
    "import geopandas as gpd\n",
    "import pandas as pd"
   ]
  },
  {
   "cell_type": "code",
   "execution_count": 2,
   "metadata": {},
   "outputs": [
    {
     "data": {
      "text/html": [
       "<script>requirejs.config({paths: { 'plotly': ['https://cdn.plot.ly/plotly-latest.min']},});if(!window.Plotly) {{require(['plotly'],function(plotly) {window.Plotly=plotly;});}}</script>"
      ],
      "text/vnd.plotly.v1+html": [
       "<script>requirejs.config({paths: { 'plotly': ['https://cdn.plot.ly/plotly-latest.min']},});if(!window.Plotly) {{require(['plotly'],function(plotly) {window.Plotly=plotly;});}}</script>"
      ]
     },
     "metadata": {},
     "output_type": "display_data"
    }
   ],
   "source": [
    "init_notebook_mode(connected=True)"
   ]
  },
  {
   "cell_type": "code",
   "execution_count": 4,
   "metadata": {},
   "outputs": [],
   "source": [
    "#df = pd.read_csv('mb_calib_wd/ref_tstars.csv', index_col=0)"
   ]
  },
  {
   "cell_type": "code",
   "execution_count": 6,
   "metadata": {},
   "outputs": [
    {
     "name": "stderr",
     "output_type": "stream",
     "text": [
      "/Users/oberrauch/miniconda3/envs/oggm_env/lib/python3.6/site-packages/plotly/graph_objs/_deprecations.py:396: DeprecationWarning:\n",
      "\n",
      "plotly.graph_objs.Margin is deprecated.\n",
      "Please replace it with one of the following more specific types\n",
      "  - plotly.graph_objs.layout.Margin\n",
      "\n",
      "\n"
     ]
    },
    {
     "data": {
      "application/vnd.plotly.v1+json": {
       "data": [
        {
         "lat": [
          46.6143
         ],
         "lon": [
          8.11933
         ],
         "marker": {
          "color": "red",
          "size": 14
         },
         "mode": "markers",
         "text": [
          "Grindel"
         ],
         "type": "scattermapbox",
         "uid": "b1e05300-b737-11e8-8620-84383547aaa6"
        }
       ],
       "layout": {
        "autosize": true,
        "height": 500,
        "hovermode": "closest",
        "mapbox": {
         "accesstoken": "pk.eyJ1Ijoib2JlcnJhdWNoIiwiYSI6ImNqbTBjaGprYjI3amIzdm9icDQ2bGV6NGEifQ.FmnRlRom8kc4D15utRiD_A",
         "bearing": 0,
         "center": {
          "lat": 46,
          "lon": 11
         },
         "pitch": 0,
         "style": "satellite-streets",
         "zoom": 10
        },
        "margin": {
         "b": 20,
         "l": 10,
         "pad": 0,
         "r": 10,
         "t": 40
        },
        "width": 800
       }
      },
      "text/html": [
       "<div id=\"874cc206-1d90-4ccf-ab0f-1464802f01e2\" style=\"height: 500px; width: 800px;\" class=\"plotly-graph-div\"></div><script type=\"text/javascript\">require([\"plotly\"], function(Plotly) { window.PLOTLYENV=window.PLOTLYENV || {};window.PLOTLYENV.BASE_URL=\"https://plot.ly\";Plotly.newPlot(\"874cc206-1d90-4ccf-ab0f-1464802f01e2\", [{\"lat\": [46.6143], \"lon\": [8.11933], \"marker\": {\"color\": \"red\", \"size\": 14}, \"mode\": \"markers\", \"text\": [\"Grindel\"], \"type\": \"scattermapbox\", \"uid\": \"b1e4b762-b737-11e8-a7ed-84383547aaa6\"}], {\"autosize\": true, \"height\": 500, \"hovermode\": \"closest\", \"mapbox\": {\"accesstoken\": \"pk.eyJ1Ijoib2JlcnJhdWNoIiwiYSI6ImNqbTBjaGprYjI3amIzdm9icDQ2bGV6NGEifQ.FmnRlRom8kc4D15utRiD_A\", \"bearing\": 0, \"center\": {\"lat\": 46, \"lon\": 11}, \"pitch\": 0, \"style\": \"satellite-streets\", \"zoom\": 10}, \"margin\": {\"b\": 20, \"l\": 10, \"pad\": 0, \"r\": 10, \"t\": 40}, \"width\": 800}, {\"showLink\": true, \"linkText\": \"Export to plot.ly\"})});</script>"
      ],
      "text/vnd.plotly.v1+html": [
       "<div id=\"874cc206-1d90-4ccf-ab0f-1464802f01e2\" style=\"height: 500px; width: 800px;\" class=\"plotly-graph-div\"></div><script type=\"text/javascript\">require([\"plotly\"], function(Plotly) { window.PLOTLYENV=window.PLOTLYENV || {};window.PLOTLYENV.BASE_URL=\"https://plot.ly\";Plotly.newPlot(\"874cc206-1d90-4ccf-ab0f-1464802f01e2\", [{\"lat\": [46.6143], \"lon\": [8.11933], \"marker\": {\"color\": \"red\", \"size\": 14}, \"mode\": \"markers\", \"text\": [\"Grindel\"], \"type\": \"scattermapbox\", \"uid\": \"b1e4b762-b737-11e8-a7ed-84383547aaa6\"}], {\"autosize\": true, \"height\": 500, \"hovermode\": \"closest\", \"mapbox\": {\"accesstoken\": \"pk.eyJ1Ijoib2JlcnJhdWNoIiwiYSI6ImNqbTBjaGprYjI3amIzdm9icDQ2bGV6NGEifQ.FmnRlRom8kc4D15utRiD_A\", \"bearing\": 0, \"center\": {\"lat\": 46, \"lon\": 11}, \"pitch\": 0, \"style\": \"satellite-streets\", \"zoom\": 10}, \"margin\": {\"b\": 20, \"l\": 10, \"pad\": 0, \"r\": 10, \"t\": 40}, \"width\": 800}, {\"showLink\": true, \"linkText\": \"Export to plot.ly\"})});</script>"
      ]
     },
     "metadata": {},
     "output_type": "display_data"
    }
   ],
   "source": [
    "mapbox_access_token = 'pk.eyJ1Ijoib2JlcnJhdWNoIiwiYSI6ImNqbTBjaGprYjI3amIzdm9icDQ2bGV6NGEifQ.FmnRlRom8kc4D15utRiD_A'\n",
    "\n",
    "data = [\n",
    "    go.Scattermapbox(\n",
    "        lat=[46.6143],\n",
    "        lon=[8.11933],\n",
    "        mode='markers',\n",
    "        marker=dict(\n",
    "            size=14,\n",
    "            color='red'\n",
    "        ),\n",
    "        text=['Grindel'],\n",
    "    ),\n",
    "]\n",
    "\n",
    "layout = go.Layout(\n",
    "    autosize=True,\n",
    "    hovermode='closest',\n",
    "    width=800,\n",
    "    height=500,\n",
    "    margin=go.Margin(\n",
    "        l=10,\n",
    "        r=10,\n",
    "        b=20,\n",
    "        t=40,\n",
    "        pad=0,\n",
    "    ),\n",
    "    mapbox=dict(\n",
    "        accesstoken=mapbox_access_token,\n",
    "        bearing=0,\n",
    "        center=dict(\n",
    "            lat=46,\n",
    "            lon=11,\n",
    "        ),\n",
    "        pitch=0,\n",
    "        zoom=10,\n",
    "        style='satellite-streets'\n",
    "    ),\n",
    ")\n",
    "\n",
    "fig = dict(data=data, layout=layout)\n",
    "\n",
    "iplot(fig)"
   ]
  },
  {
   "cell_type": "code",
   "execution_count": 10,
   "metadata": {},
   "outputs": [
    {
     "data": {
      "text/html": [
       "<div>\n",
       "<style scoped>\n",
       "    .dataframe tbody tr th:only-of-type {\n",
       "        vertical-align: middle;\n",
       "    }\n",
       "\n",
       "    .dataframe tbody tr th {\n",
       "        vertical-align: top;\n",
       "    }\n",
       "\n",
       "    .dataframe thead th {\n",
       "        text-align: right;\n",
       "    }\n",
       "</style>\n",
       "<table border=\"1\" class=\"dataframe\">\n",
       "  <thead>\n",
       "    <tr style=\"text-align: right;\">\n",
       "      <th></th>\n",
       "      <th>lon</th>\n",
       "      <th>lat</th>\n",
       "      <th>n_mb_years</th>\n",
       "      <th>tstar</th>\n",
       "      <th>prcp_fac</th>\n",
       "      <th>bias</th>\n",
       "    </tr>\n",
       "  </thead>\n",
       "  <tbody>\n",
       "    <tr>\n",
       "      <th>RGI60-11.01238</th>\n",
       "      <td>8.39650</td>\n",
       "      <td>46.6236</td>\n",
       "      <td>33</td>\n",
       "      <td>1901</td>\n",
       "      <td>1.75</td>\n",
       "      <td>37.231253</td>\n",
       "    </tr>\n",
       "    <tr>\n",
       "      <th>RGI60-11.01450</th>\n",
       "      <td>8.01919</td>\n",
       "      <td>46.5028</td>\n",
       "      <td>60</td>\n",
       "      <td>1903</td>\n",
       "      <td>1.75</td>\n",
       "      <td>58.765355</td>\n",
       "    </tr>\n",
       "  </tbody>\n",
       "</table>\n",
       "</div>"
      ],
      "text/plain": [
       "                    lon      lat  n_mb_years  tstar  prcp_fac       bias\n",
       "RGI60-11.01238  8.39650  46.6236          33   1901      1.75  37.231253\n",
       "RGI60-11.01450  8.01919  46.5028          60   1903      1.75  58.765355"
      ]
     },
     "execution_count": 10,
     "metadata": {},
     "output_type": "execute_result"
    }
   ],
   "source": [
    "df.loc[['RGI60-11.01238', 'RGI60-11.01450']]"
   ]
  },
  {
   "cell_type": "code",
   "execution_count": null,
   "metadata": {},
   "outputs": [],
   "source": []
  }
 ],
 "metadata": {
  "hide_input": false,
  "kernelspec": {
   "display_name": "Python 3",
   "language": "python",
   "name": "python3"
  },
  "language_info": {
   "codemirror_mode": {
    "name": "ipython",
    "version": 3
   },
   "file_extension": ".py",
   "mimetype": "text/x-python",
   "name": "python",
   "nbconvert_exporter": "python",
   "pygments_lexer": "ipython3",
   "version": "3.6.5"
  },
  "toc": {
   "base_numbering": 1,
   "nav_menu": {},
   "number_sections": false,
   "sideBar": true,
   "skip_h1_title": true,
   "title_cell": "Table of Contents",
   "title_sidebar": "Contents",
   "toc_cell": false,
   "toc_position": {},
   "toc_section_display": true,
   "toc_window_display": false
  }
 },
 "nbformat": 4,
 "nbformat_minor": 2
}
