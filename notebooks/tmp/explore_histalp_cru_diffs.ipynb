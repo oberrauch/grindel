{
 "cells": [
  {
   "cell_type": "code",
   "execution_count": 60,
   "metadata": {},
   "outputs": [],
   "source": [
    "import xarray as xr\n",
    "import pandas as pd\n",
    "%matplotlib inline"
   ]
  },
  {
   "cell_type": "code",
   "execution_count": 61,
   "metadata": {},
   "outputs": [],
   "source": [
    "rgi_id = 'RGI60-11.01270'"
   ]
  },
  {
   "cell_type": "code",
   "execution_count": 62,
   "metadata": {},
   "outputs": [
    {
     "name": "stderr",
     "output_type": "stream",
     "text": [
      "2018-08-02 16:15:38: oggm.cfg: Parameter file: /home/mowglie/Documents/git/oggm-fork/oggm/params.cfg\n"
     ]
    }
   ],
   "source": [
    "import oggm\n",
    "from oggm import cfg, utils, tasks, workflow\n",
    "from oggm.workflow import execute_entity_task\n",
    "\n",
    "# Initialize OGGM and set up the run parameters\n",
    "cfg.initialize()"
   ]
  },
  {
   "cell_type": "code",
   "execution_count": 63,
   "metadata": {},
   "outputs": [],
   "source": [
    "# Local paths (where to write the OGGM run output)\n",
    "wdir = 'test_cru_wd'\n",
    "utils.mkdir(wdir, reset=True)\n",
    "cfg.PATHS['working_dir'] = wdir\n",
    "cfg.PARAMS['use_intersects'] = False"
   ]
  },
  {
   "cell_type": "code",
   "execution_count": 64,
   "metadata": {},
   "outputs": [],
   "source": [
    "rgidf = utils.get_rgi_glacier_entities([rgi_id], version='61')"
   ]
  },
  {
   "cell_type": "code",
   "execution_count": 65,
   "metadata": {},
   "outputs": [
    {
     "data": {
      "image/png": "[encoded data removed]",
      "text/plain": [
       "<Figure size 432x288 with 1 Axes>"
      ]
     },
     "metadata": {},
     "output_type": "display_data"
    }
   ],
   "source": [
    "rgidf.plot();"
   ]
  },
  {
   "cell_type": "code",
   "execution_count": 66,
   "metadata": {},
   "outputs": [
    {
     "data": {
      "text/html": [
       "<div>\n",
       "<style scoped>\n",
       "    .dataframe tbody tr th:only-of-type {\n",
       "        vertical-align: middle;\n",
       "    }\n",
       "\n",
       "    .dataframe tbody tr th {\n",
       "        vertical-align: top;\n",
       "    }\n",
       "\n",
       "    .dataframe thead th {\n",
       "        text-align: right;\n",
       "    }\n",
       "</style>\n",
       "<table border=\"1\" class=\"dataframe\">\n",
       "  <thead>\n",
       "    <tr style=\"text-align: right;\">\n",
       "      <th></th>\n",
       "      <th>RGIId</th>\n",
       "      <th>GLIMSId</th>\n",
       "      <th>BgnDate</th>\n",
       "      <th>EndDate</th>\n",
       "      <th>CenLon</th>\n",
       "      <th>CenLat</th>\n",
       "      <th>O1Region</th>\n",
       "      <th>O2Region</th>\n",
       "      <th>Area</th>\n",
       "      <th>Zmin</th>\n",
       "      <th>...</th>\n",
       "      <th>Lmax</th>\n",
       "      <th>Status</th>\n",
       "      <th>Connect</th>\n",
       "      <th>Form</th>\n",
       "      <th>TermType</th>\n",
       "      <th>Surging</th>\n",
       "      <th>Linkages</th>\n",
       "      <th>Name</th>\n",
       "      <th>check_geom</th>\n",
       "      <th>geometry</th>\n",
       "    </tr>\n",
       "  </thead>\n",
       "  <tbody>\n",
       "    <tr>\n",
       "      <th>1269</th>\n",
       "      <td>RGI60-11.01270</td>\n",
       "      <td>G008119E46614N</td>\n",
       "      <td>20030799</td>\n",
       "      <td>20030999</td>\n",
       "      <td>8.11933</td>\n",
       "      <td>46.6143</td>\n",
       "      <td>11</td>\n",
       "      <td>1</td>\n",
       "      <td>9.023</td>\n",
       "      <td>1361</td>\n",
       "      <td>...</td>\n",
       "      <td>6412</td>\n",
       "      <td>0</td>\n",
       "      <td>0</td>\n",
       "      <td>0</td>\n",
       "      <td>0</td>\n",
       "      <td>9</td>\n",
       "      <td>9</td>\n",
       "      <td>None</td>\n",
       "      <td>WARN:WasInvalid;</td>\n",
       "      <td>POLYGON ((8.127299661000052 46.63327544100008,...</td>\n",
       "    </tr>\n",
       "  </tbody>\n",
       "</table>\n",
       "<p>1 rows × 24 columns</p>\n",
       "</div>"
      ],
      "text/plain": [
       "               RGIId         GLIMSId   BgnDate   EndDate   CenLon   CenLat  \\\n",
       "1269  RGI60-11.01270  G008119E46614N  20030799  20030999  8.11933  46.6143   \n",
       "\n",
       "     O1Region O2Region   Area  Zmin  \\\n",
       "1269       11        1  9.023  1361   \n",
       "\n",
       "                            ...                          Lmax  Status  \\\n",
       "1269                        ...                          6412       0   \n",
       "\n",
       "      Connect  Form  TermType  Surging  Linkages  Name        check_geom  \\\n",
       "1269        0     0         0        9         9  None  WARN:WasInvalid;   \n",
       "\n",
       "                                               geometry  \n",
       "1269  POLYGON ((8.127299661000052 46.63327544100008,...  \n",
       "\n",
       "[1 rows x 24 columns]"
      ]
     },
     "execution_count": 66,
     "metadata": {},
     "output_type": "execute_result"
    }
   ],
   "source": [
    "rgidf"
   ]
  },
  {
   "cell_type": "code",
   "execution_count": 17,
   "metadata": {},
   "outputs": [
    {
     "name": "stderr",
     "output_type": "stream",
     "text": [
      "2018-08-02 15:48:42: oggm.workflow: Multiprocessing: using all available processors (N=8)\n",
      "2018-08-02 15:48:42: oggm.core.gis: (RGI60-11.01270) define_glacier_region\n",
      "2018-08-02 15:48:42: oggm.core.gis: (RGI60-11.01270) glacier_masks\n",
      "2018-08-02 15:48:42: oggm.core.centerlines: (RGI60-11.01270) compute_centerlines\n",
      "2018-08-02 15:48:42: oggm.core.centerlines: (RGI60-11.01270) initialize_flowlines\n",
      "2018-08-02 15:48:42: oggm.core.centerlines: (RGI60-11.01270) catchment_area\n",
      "2018-08-02 15:48:43: oggm.core.centerlines: (RGI60-11.01270) catchment_intersections\n",
      "2018-08-02 15:48:43: oggm.core.centerlines: (RGI60-11.01270) catchment_width_geom\n",
      "2018-08-02 15:48:43: oggm.core.centerlines: (RGI60-11.01270) catchment_width_correction\n"
     ]
    }
   ],
   "source": [
    "# Go - initialize working directories\n",
    "gdirs = workflow.init_glacier_regions(rgidf)\n",
    "\n",
    "# Prepro tasks\n",
    "task_list = [\n",
    "    tasks.glacier_masks,\n",
    "    tasks.compute_centerlines,\n",
    "    tasks.initialize_flowlines,\n",
    "    tasks.catchment_area,\n",
    "    tasks.catchment_intersections,\n",
    "    tasks.catchment_width_geom,\n",
    "    tasks.catchment_width_correction,\n",
    "]\n",
    "# execute all tasks\n",
    "for task in task_list:\n",
    "    execute_entity_task(task, gdirs)"
   ]
  },
  {
   "cell_type": "code",
   "execution_count": 18,
   "metadata": {},
   "outputs": [
    {
     "name": "stderr",
     "output_type": "stream",
     "text": [
      "2018-08-02 15:49:09: oggm.core.climate: (RGI60-11.01270) process_cru_data\n"
     ]
    }
   ],
   "source": [
    "tasks.process_cru_data(gdirs[0])"
   ]
  },
  {
   "cell_type": "code",
   "execution_count": 19,
   "metadata": {},
   "outputs": [],
   "source": [
    "gdir = gdirs[0]"
   ]
  },
  {
   "cell_type": "code",
   "execution_count": 21,
   "metadata": {},
   "outputs": [
    {
     "data": {
      "text/plain": [
       "'mb_calib_wd/per_glacier/RGI60-11/RGI60-11.01/RGI60-11.01270/climate_monthly.nc'"
      ]
     },
     "execution_count": 21,
     "metadata": {},
     "output_type": "execute_result"
    }
   ],
   "source": [
    "gdir.get_filepath('climate_monthly')"
   ]
  },
  {
   "cell_type": "code",
   "execution_count": 22,
   "metadata": {},
   "outputs": [],
   "source": [
    "cp mb_calib_wd/per_glacier/RGI60-11/RGI60-11.01/RGI60-11.01270/climate_monthly.nc climate_cru.nc"
   ]
  },
  {
   "cell_type": "code",
   "execution_count": 23,
   "metadata": {},
   "outputs": [
    {
     "name": "stderr",
     "output_type": "stream",
     "text": [
      "2018-08-02 15:51:28: oggm.workflow: Multiprocessing: using all available processors (N=8)\n",
      "2018-08-02 15:51:28: oggm.core.climate: (RGI60-11.01270) process_custom_climate_data\n"
     ]
    }
   ],
   "source": [
    "# set path to HISTALP climate file\n",
    "cfg.PATHS['climate_file'] = 'raw_data/histalp_merged_full.nc'\n",
    "# Climate tasks\n",
    "execute_entity_task(tasks.process_custom_climate_data, gdirs)"
   ]
  },
  {
   "cell_type": "code",
   "execution_count": 24,
   "metadata": {},
   "outputs": [
    {
     "data": {
      "text/plain": [
       "'mb_calib_wd/per_glacier/RGI60-11/RGI60-11.01/RGI60-11.01270/climate_monthly.nc'"
      ]
     },
     "execution_count": 24,
     "metadata": {},
     "output_type": "execute_result"
    }
   ],
   "source": [
    "gdir.get_filepath('climate_monthly')"
   ]
  },
  {
   "cell_type": "code",
   "execution_count": 25,
   "metadata": {},
   "outputs": [],
   "source": [
    "cp mb_calib_wd/per_glacier/RGI60-11/RGI60-11.01/RGI60-11.01270/climate_monthly.nc climate_hs.nc"
   ]
  },
  {
   "cell_type": "code",
   "execution_count": null,
   "metadata": {},
   "outputs": [],
   "source": []
  },
  {
   "cell_type": "code",
   "execution_count": 26,
   "metadata": {},
   "outputs": [],
   "source": [
    "dsh = xr.open_dataset('climate_hs.nc')\n",
    "dsc = xr.open_dataset('climate_cru.nc')"
   ]
  },
  {
   "cell_type": "code",
   "execution_count": 29,
   "metadata": {},
   "outputs": [
    {
     "data": {
      "text/plain": [
       "<xarray.Dataset>\n",
       "Dimensions:  ()\n",
       "Data variables:\n",
       "    prcp     float64 150.5\n",
       "    temp     float64 -2.002\n",
       "    grad     float64 -0.0065"
      ]
     },
     "execution_count": 29,
     "metadata": {},
     "output_type": "execute_result"
    }
   ],
   "source": [
    "dsc.mean()"
   ]
  },
  {
   "cell_type": "code",
   "execution_count": 30,
   "metadata": {},
   "outputs": [
    {
     "data": {
      "text/plain": [
       "<xarray.Dataset>\n",
       "Dimensions:  ()\n",
       "Data variables:\n",
       "    prcp     float64 178.1\n",
       "    temp     float64 1.742\n",
       "    grad     float64 -0.0065"
      ]
     },
     "execution_count": 30,
     "metadata": {},
     "output_type": "execute_result"
    }
   ],
   "source": [
    "dsh.mean()"
   ]
  },
  {
   "cell_type": "code",
   "execution_count": 32,
   "metadata": {},
   "outputs": [],
   "source": [
    "df = dsc.to_dataframe()"
   ]
  },
  {
   "cell_type": "code",
   "execution_count": 33,
   "metadata": {},
   "outputs": [],
   "source": [
    "dfh = dsh.to_dataframe()"
   ]
  },
  {
   "cell_type": "code",
   "execution_count": 35,
   "metadata": {},
   "outputs": [],
   "source": [
    "df.columns = ['cru_' + c for c in df.columns]"
   ]
  },
  {
   "cell_type": "code",
   "execution_count": 36,
   "metadata": {},
   "outputs": [],
   "source": [
    "dfh.columns = ['ha_' + c for c in dfh.columns]"
   ]
  },
  {
   "cell_type": "code",
   "execution_count": 41,
   "metadata": {},
   "outputs": [],
   "source": [
    "df = pd.concat([df, dfh], axis=1)"
   ]
  },
  {
   "cell_type": "code",
   "execution_count": 46,
   "metadata": {},
   "outputs": [],
   "source": [
    "df = df.dropna()"
   ]
  },
  {
   "cell_type": "code",
   "execution_count": 50,
   "metadata": {},
   "outputs": [],
   "source": [
    "dfa = df.resample('AS').mean()"
   ]
  },
  {
   "cell_type": "code",
   "execution_count": 51,
   "metadata": {},
   "outputs": [
    {
     "data": {
      "image/png": "[encoded data removed]",
      "text/plain": [
       "<Figure size 432x288 with 1 Axes>"
      ]
     },
     "metadata": {},
     "output_type": "display_data"
    }
   ],
   "source": [
    "dfa[['cru_prcp', 'ha_prcp']].plot();"
   ]
  },
  {
   "cell_type": "code",
   "execution_count": 52,
   "metadata": {},
   "outputs": [
    {
     "data": {
      "text/html": [
       "<div>\n",
       "<style scoped>\n",
       "    .dataframe tbody tr th:only-of-type {\n",
       "        vertical-align: middle;\n",
       "    }\n",
       "\n",
       "    .dataframe tbody tr th {\n",
       "        vertical-align: top;\n",
       "    }\n",
       "\n",
       "    .dataframe thead th {\n",
       "        text-align: right;\n",
       "    }\n",
       "</style>\n",
       "<table border=\"1\" class=\"dataframe\">\n",
       "  <thead>\n",
       "    <tr style=\"text-align: right;\">\n",
       "      <th></th>\n",
       "      <th>cru_prcp</th>\n",
       "      <th>cru_temp</th>\n",
       "      <th>cru_grad</th>\n",
       "      <th>ha_prcp</th>\n",
       "      <th>ha_temp</th>\n",
       "      <th>ha_grad</th>\n",
       "    </tr>\n",
       "  </thead>\n",
       "  <tbody>\n",
       "    <tr>\n",
       "      <th>cru_prcp</th>\n",
       "      <td>1.000000</td>\n",
       "      <td>-0.009546</td>\n",
       "      <td>NaN</td>\n",
       "      <td>0.850970</td>\n",
       "      <td>-0.081037</td>\n",
       "      <td>NaN</td>\n",
       "    </tr>\n",
       "    <tr>\n",
       "      <th>cru_temp</th>\n",
       "      <td>-0.009546</td>\n",
       "      <td>1.000000</td>\n",
       "      <td>NaN</td>\n",
       "      <td>0.001074</td>\n",
       "      <td>0.962209</td>\n",
       "      <td>NaN</td>\n",
       "    </tr>\n",
       "    <tr>\n",
       "      <th>cru_grad</th>\n",
       "      <td>NaN</td>\n",
       "      <td>NaN</td>\n",
       "      <td>NaN</td>\n",
       "      <td>NaN</td>\n",
       "      <td>NaN</td>\n",
       "      <td>NaN</td>\n",
       "    </tr>\n",
       "    <tr>\n",
       "      <th>ha_prcp</th>\n",
       "      <td>0.850970</td>\n",
       "      <td>0.001074</td>\n",
       "      <td>NaN</td>\n",
       "      <td>1.000000</td>\n",
       "      <td>-0.034020</td>\n",
       "      <td>NaN</td>\n",
       "    </tr>\n",
       "    <tr>\n",
       "      <th>ha_temp</th>\n",
       "      <td>-0.081037</td>\n",
       "      <td>0.962209</td>\n",
       "      <td>NaN</td>\n",
       "      <td>-0.034020</td>\n",
       "      <td>1.000000</td>\n",
       "      <td>NaN</td>\n",
       "    </tr>\n",
       "    <tr>\n",
       "      <th>ha_grad</th>\n",
       "      <td>NaN</td>\n",
       "      <td>NaN</td>\n",
       "      <td>NaN</td>\n",
       "      <td>NaN</td>\n",
       "      <td>NaN</td>\n",
       "      <td>NaN</td>\n",
       "    </tr>\n",
       "  </tbody>\n",
       "</table>\n",
       "</div>"
      ],
      "text/plain": [
       "          cru_prcp  cru_temp  cru_grad   ha_prcp   ha_temp  ha_grad\n",
       "cru_prcp  1.000000 -0.009546       NaN  0.850970 -0.081037      NaN\n",
       "cru_temp -0.009546  1.000000       NaN  0.001074  0.962209      NaN\n",
       "cru_grad       NaN       NaN       NaN       NaN       NaN      NaN\n",
       "ha_prcp   0.850970  0.001074       NaN  1.000000 -0.034020      NaN\n",
       "ha_temp  -0.081037  0.962209       NaN -0.034020  1.000000      NaN\n",
       "ha_grad        NaN       NaN       NaN       NaN       NaN      NaN"
      ]
     },
     "execution_count": 52,
     "metadata": {},
     "output_type": "execute_result"
    }
   ],
   "source": [
    "dfa.corr()"
   ]
  },
  {
   "cell_type": "code",
   "execution_count": 55,
   "metadata": {},
   "outputs": [
    {
     "data": {
      "text/html": [
       "<div>\n",
       "<style scoped>\n",
       "    .dataframe tbody tr th:only-of-type {\n",
       "        vertical-align: middle;\n",
       "    }\n",
       "\n",
       "    .dataframe tbody tr th {\n",
       "        vertical-align: top;\n",
       "    }\n",
       "\n",
       "    .dataframe thead th {\n",
       "        text-align: right;\n",
       "    }\n",
       "</style>\n",
       "<table border=\"1\" class=\"dataframe\">\n",
       "  <thead>\n",
       "    <tr style=\"text-align: right;\">\n",
       "      <th></th>\n",
       "      <th>cru_prcp</th>\n",
       "      <th>cru_temp</th>\n",
       "      <th>cru_grad</th>\n",
       "      <th>ha_prcp</th>\n",
       "      <th>ha_temp</th>\n",
       "      <th>ha_grad</th>\n",
       "    </tr>\n",
       "  </thead>\n",
       "  <tbody>\n",
       "    <tr>\n",
       "      <th>cru_prcp</th>\n",
       "      <td>1.000000</td>\n",
       "      <td>0.236922</td>\n",
       "      <td>NaN</td>\n",
       "      <td>0.792937</td>\n",
       "      <td>0.262135</td>\n",
       "      <td>NaN</td>\n",
       "    </tr>\n",
       "    <tr>\n",
       "      <th>cru_temp</th>\n",
       "      <td>0.236922</td>\n",
       "      <td>1.000000</td>\n",
       "      <td>NaN</td>\n",
       "      <td>0.224882</td>\n",
       "      <td>0.987411</td>\n",
       "      <td>NaN</td>\n",
       "    </tr>\n",
       "    <tr>\n",
       "      <th>cru_grad</th>\n",
       "      <td>NaN</td>\n",
       "      <td>NaN</td>\n",
       "      <td>NaN</td>\n",
       "      <td>NaN</td>\n",
       "      <td>NaN</td>\n",
       "      <td>NaN</td>\n",
       "    </tr>\n",
       "    <tr>\n",
       "      <th>ha_prcp</th>\n",
       "      <td>0.792937</td>\n",
       "      <td>0.224882</td>\n",
       "      <td>NaN</td>\n",
       "      <td>1.000000</td>\n",
       "      <td>0.256669</td>\n",
       "      <td>NaN</td>\n",
       "    </tr>\n",
       "    <tr>\n",
       "      <th>ha_temp</th>\n",
       "      <td>0.262135</td>\n",
       "      <td>0.987411</td>\n",
       "      <td>NaN</td>\n",
       "      <td>0.256669</td>\n",
       "      <td>1.000000</td>\n",
       "      <td>NaN</td>\n",
       "    </tr>\n",
       "    <tr>\n",
       "      <th>ha_grad</th>\n",
       "      <td>NaN</td>\n",
       "      <td>NaN</td>\n",
       "      <td>NaN</td>\n",
       "      <td>NaN</td>\n",
       "      <td>NaN</td>\n",
       "      <td>NaN</td>\n",
       "    </tr>\n",
       "  </tbody>\n",
       "</table>\n",
       "</div>"
      ],
      "text/plain": [
       "          cru_prcp  cru_temp  cru_grad   ha_prcp   ha_temp  ha_grad\n",
       "cru_prcp  1.000000  0.236922       NaN  0.792937  0.262135      NaN\n",
       "cru_temp  0.236922  1.000000       NaN  0.224882  0.987411      NaN\n",
       "cru_grad       NaN       NaN       NaN       NaN       NaN      NaN\n",
       "ha_prcp   0.792937  0.224882       NaN  1.000000  0.256669      NaN\n",
       "ha_temp   0.262135  0.987411       NaN  0.256669  1.000000      NaN\n",
       "ha_grad        NaN       NaN       NaN       NaN       NaN      NaN"
      ]
     },
     "execution_count": 55,
     "metadata": {},
     "output_type": "execute_result"
    }
   ],
   "source": [
    "dfa.rolling(10, center=True).mean().corr()"
   ]
  },
  {
   "cell_type": "code",
   "execution_count": 56,
   "metadata": {},
   "outputs": [
    {
     "data": {
      "text/plain": [
       "cru_prcp    150.417603\n",
       "cru_temp     -2.049710\n",
       "cru_grad     -0.006500\n",
       "ha_prcp     179.248566\n",
       "ha_temp       1.935600\n",
       "ha_grad      -0.006500\n",
       "dtype: float32"
      ]
     },
     "execution_count": 56,
     "metadata": {},
     "output_type": "execute_result"
    }
   ],
   "source": [
    "dfa.mean()"
   ]
  },
  {
   "cell_type": "code",
   "execution_count": 58,
   "metadata": {},
   "outputs": [
    {
     "data": {
      "text/plain": [
       "1.1916158509719104"
      ]
     },
     "execution_count": 58,
     "metadata": {},
     "output_type": "execute_result"
    }
   ],
   "source": [
    "179.24 / 150.417603 "
   ]
  },
  {
   "cell_type": "code",
   "execution_count": 59,
   "metadata": {},
   "outputs": [],
   "source": [
    "# Histapl is 20% more precip"
   ]
  },
  {
   "cell_type": "markdown",
   "metadata": {},
   "source": []
  },
  {
   "cell_type": "code",
   "execution_count": 9,
   "metadata": {},
   "outputs": [],
   "source": [
    "dsh = xr.open_dataset('raw_data/histalp_merged_full.nc')"
   ]
  },
  {
   "cell_type": "code",
   "execution_count": 10,
   "metadata": {},
   "outputs": [
    {
     "ename": "SyntaxError",
     "evalue": "invalid syntax (<ipython-input-10-27a2fde8af0a>, line 1)",
     "output_type": "error",
     "traceback": [
      "\u001b[0;36m  File \u001b[0;32m\"<ipython-input-10-27a2fde8af0a>\"\u001b[0;36m, line \u001b[0;32m1\u001b[0m\n\u001b[0;31m    dsc = xr.open_dataset(utils.get_cru_file?)\u001b[0m\n\u001b[0m                                            ^\u001b[0m\n\u001b[0;31mSyntaxError\u001b[0m\u001b[0;31m:\u001b[0m invalid syntax\n"
     ]
    }
   ],
   "source": [
    "dsc = xr.open_dataset(utils.get_cru_file?)"
   ]
  },
  {
   "cell_type": "code",
   "execution_count": 11,
   "metadata": {},
   "outputs": [
    {
     "data": {
      "text/plain": [
       "\u001b[0;31mSignature:\u001b[0m \u001b[0mutils\u001b[0m\u001b[0;34m.\u001b[0m\u001b[0mget_cru_file\u001b[0m\u001b[0;34m(\u001b[0m\u001b[0mvar\u001b[0m\u001b[0;34m=\u001b[0m\u001b[0;32mNone\u001b[0m\u001b[0;34m)\u001b[0m\u001b[0;34m\u001b[0m\u001b[0m\n",
       "\u001b[0;31mDocstring:\u001b[0m\n",
       "Returns a path to the desired CRU TS file.\n",
       "\n",
       "If the file is not present, download it.\n",
       "\n",
       "Parameters\n",
       "----------\n",
       "var: 'tmp' or 'pre'\n",
       "\n",
       "Returns\n",
       "-------\n",
       "path to the CRU file\n",
       "\u001b[0;31mFile:\u001b[0m      ~/Documents/git/oggm-fork/oggm/utils.py\n",
       "\u001b[0;31mType:\u001b[0m      function\n"
      ]
     },
     "metadata": {},
     "output_type": "display_data"
    }
   ],
   "source": [
    "utils.get_"
   ]
  },
  {
   "cell_type": "code",
   "execution_count": null,
   "metadata": {},
   "outputs": [],
   "source": []
  }
 ],
 "metadata": {
  "kernelspec": {
   "display_name": "Python 3",
   "language": "python",
   "name": "python3"
  },
  "language_info": {
   "codemirror_mode": {
    "name": "ipython",
    "version": 3
   },
   "file_extension": ".py",
   "mimetype": "text/x-python",
   "name": "python",
   "nbconvert_exporter": "python",
   "pygments_lexer": "ipython3",
   "version": "3.6.5"
  }
 },
 "nbformat": 4,
 "nbformat_minor": 2
}
