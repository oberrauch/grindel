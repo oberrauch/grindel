{
 "cells": [
  {
   "cell_type": "markdown",
   "metadata": {},
   "source": [
    "# Plot Map\n",
    "@TODO: description"
   ]
  },
  {
   "cell_type": "markdown",
   "metadata": {},
   "source": [
    "## Import section"
   ]
  },
  {
   "cell_type": "code",
   "execution_count": 1,
   "metadata": {},
   "outputs": [],
   "source": [
    "# standard modules\n",
    "import sys\n",
    "import pandas as pd\n",
    "\n",
    "# map plotting modules\n",
    "import plotly.plotly as py\n",
    "import plotly.graph_objs as go\n",
    "from plotly.offline import download_plotlyjs, init_notebook_mode, plot, iplot\n",
    "\n",
    "# gis modules\n",
    "import ogr\n",
    "import osr\n",
    "import geopandas as gpd\n",
    "\n",
    "# my modules\n",
    "sys.path.append('../code/')\n",
    "import utils as mutils\n",
    "import mycolors"
   ]
  },
  {
   "cell_type": "markdown",
   "metadata": {},
   "source": [
    "## Prepare data"
   ]
  },
  {
   "cell_type": "markdown",
   "metadata": {},
   "source": [
    "### Monthly precipitation data stations"
   ]
  },
  {
   "cell_type": "code",
   "execution_count": 2,
   "metadata": {},
   "outputs": [
    {
     "data": {
      "text/html": [
       "<div>\n",
       "<style scoped>\n",
       "    .dataframe tbody tr th:only-of-type {\n",
       "        vertical-align: middle;\n",
       "    }\n",
       "\n",
       "    .dataframe tbody tr th {\n",
       "        vertical-align: top;\n",
       "    }\n",
       "\n",
       "    .dataframe thead th {\n",
       "        text-align: right;\n",
       "    }\n",
       "</style>\n",
       "<table border=\"1\" class=\"dataframe\">\n",
       "  <thead>\n",
       "    <tr style=\"text-align: right;\">\n",
       "      <th></th>\n",
       "      <th>Name</th>\n",
       "      <th>Parameter</th>\n",
       "      <th>Datenquelle</th>\n",
       "      <th>Länge/Breite</th>\n",
       "      <th>Koordinaten [km]</th>\n",
       "      <th>Höhe ü. M. [m]</th>\n",
       "    </tr>\n",
       "    <tr>\n",
       "      <th>stn</th>\n",
       "      <th></th>\n",
       "      <th></th>\n",
       "      <th></th>\n",
       "      <th></th>\n",
       "      <th></th>\n",
       "      <th></th>\n",
       "    </tr>\n",
       "  </thead>\n",
       "  <tbody>\n",
       "    <tr>\n",
       "      <th>EIG</th>\n",
       "      <td>Eigergletscher</td>\n",
       "      <td>rre150m0</td>\n",
       "      <td>MeteoSchweiz</td>\n",
       "      <td>7°58'/46°35'</td>\n",
       "      <td>640950/158350</td>\n",
       "      <td>2320</td>\n",
       "    </tr>\n",
       "    <tr>\n",
       "      <th>KSE</th>\n",
       "      <td>Kleine Scheidegg</td>\n",
       "      <td>rre150m0</td>\n",
       "      <td>MeteoSchweiz</td>\n",
       "      <td>7°58'/46°35'</td>\n",
       "      <td>639896/159346</td>\n",
       "      <td>2060</td>\n",
       "    </tr>\n",
       "  </tbody>\n",
       "</table>\n",
       "</div>"
      ],
      "text/plain": [
       "                 Name Parameter   Datenquelle  Länge/Breite Koordinaten [km]  \\\n",
       "stn                                                                            \n",
       "EIG    Eigergletscher  rre150m0  MeteoSchweiz  7°58'/46°35'    640950/158350   \n",
       "KSE  Kleine Scheidegg  rre150m0  MeteoSchweiz  7°58'/46°35'    639896/159346   \n",
       "\n",
       "     Höhe ü. M. [m]  \n",
       "stn                  \n",
       "EIG            2320  \n",
       "KSE            2060  "
      ]
     },
     "execution_count": 2,
     "metadata": {},
     "output_type": "execute_result"
    }
   ],
   "source": [
    "# specify path to station meta file\n",
    "path = '../raw_data/station_data/monthly_precip_stations.csv'\n",
    "stations = pd.read_csv(path, index_col=0)\n",
    "stations"
   ]
  },
  {
   "cell_type": "code",
   "execution_count": 3,
   "metadata": {},
   "outputs": [],
   "source": [
    "# subset for neccessary information only\n",
    "precip = stations[['Name', 'Koordinaten [km]', 'Höhe ü. M. [m]']].copy()\n",
    "precip.columns = ['name', 'coords', 'alti']"
   ]
  },
  {
   "cell_type": "code",
   "execution_count": 4,
   "metadata": {},
   "outputs": [],
   "source": [
    "# get longitude and latitude parameters\n",
    "coords = precip.coords.str.split('/')\n",
    "\n",
    "# specify CH1903+/LV95 EPSG code\n",
    "EPSG = 2056  \n",
    "\n",
    "# iterate over all stations\n",
    "for stn, _ in precip.iterrows():\n",
    "    # split into lon and lat value and\n",
    "    # add omitted leading numbers to CH1903+ coords\n",
    "    lon = float(coords[stn][0]) + 2e6\n",
    "    lat = float(coords[stn][1]) + 1e6\n",
    "        # convert into WGS84 coords\n",
    "    lon, lat = mutils.convert_to_wgs84(lon, lat, EPSG)\n",
    "    # add to DataFrame\n",
    "    precip.loc[stn, 'lon'] = lon\n",
    "    precip.loc[stn, 'lat'] = lat\n"
   ]
  },
  {
   "cell_type": "code",
   "execution_count": 5,
   "metadata": {},
   "outputs": [
    {
     "data": {
      "text/html": [
       "<div>\n",
       "<style scoped>\n",
       "    .dataframe tbody tr th:only-of-type {\n",
       "        vertical-align: middle;\n",
       "    }\n",
       "\n",
       "    .dataframe tbody tr th {\n",
       "        vertical-align: top;\n",
       "    }\n",
       "\n",
       "    .dataframe thead th {\n",
       "        text-align: right;\n",
       "    }\n",
       "</style>\n",
       "<table border=\"1\" class=\"dataframe\">\n",
       "  <thead>\n",
       "    <tr style=\"text-align: right;\">\n",
       "      <th></th>\n",
       "      <th>name</th>\n",
       "      <th>coords</th>\n",
       "      <th>alti</th>\n",
       "      <th>lon</th>\n",
       "      <th>lat</th>\n",
       "    </tr>\n",
       "    <tr>\n",
       "      <th>stn</th>\n",
       "      <th></th>\n",
       "      <th></th>\n",
       "      <th></th>\n",
       "      <th></th>\n",
       "      <th></th>\n",
       "    </tr>\n",
       "  </thead>\n",
       "  <tbody>\n",
       "    <tr>\n",
       "      <th>EIG</th>\n",
       "      <td>Eigergletscher</td>\n",
       "      <td>640950/158350</td>\n",
       "      <td>2320</td>\n",
       "      <td>7.972827</td>\n",
       "      <td>46.575174</td>\n",
       "    </tr>\n",
       "    <tr>\n",
       "      <th>KSE</th>\n",
       "      <td>Kleine Scheidegg</td>\n",
       "      <td>639896/159346</td>\n",
       "      <td>2060</td>\n",
       "      <td>7.959164</td>\n",
       "      <td>46.584197</td>\n",
       "    </tr>\n",
       "  </tbody>\n",
       "</table>\n",
       "</div>"
      ],
      "text/plain": [
       "                 name         coords  alti       lon        lat\n",
       "stn                                                            \n",
       "EIG    Eigergletscher  640950/158350  2320  7.972827  46.575174\n",
       "KSE  Kleine Scheidegg  639896/159346  2060  7.959164  46.584197"
      ]
     },
     "execution_count": 5,
     "metadata": {},
     "output_type": "execute_result"
    }
   ],
   "source": [
    "precip"
   ]
  },
  {
   "cell_type": "markdown",
   "metadata": {},
   "source": [
    "### SLF precipitation stations"
   ]
  },
  {
   "cell_type": "code",
   "execution_count": 6,
   "metadata": {},
   "outputs": [
    {
     "data": {
      "text/html": [
       "<div>\n",
       "<style scoped>\n",
       "    .dataframe tbody tr th:only-of-type {\n",
       "        vertical-align: middle;\n",
       "    }\n",
       "\n",
       "    .dataframe tbody tr th {\n",
       "        vertical-align: top;\n",
       "    }\n",
       "\n",
       "    .dataframe thead th {\n",
       "        text-align: right;\n",
       "    }\n",
       "</style>\n",
       "<table border=\"1\" class=\"dataframe\">\n",
       "  <thead>\n",
       "    <tr style=\"text-align: right;\">\n",
       "      <th></th>\n",
       "      <th>Name</th>\n",
       "      <th>Parameter</th>\n",
       "      <th>Data source</th>\n",
       "      <th>Longitude/Latitude</th>\n",
       "      <th>Coordinates [km]</th>\n",
       "      <th>Elevation [m]</th>\n",
       "    </tr>\n",
       "  </thead>\n",
       "  <tbody>\n",
       "    <tr>\n",
       "      <th>SLFFIR</th>\n",
       "      <td>Grindelwald / First</td>\n",
       "      <td>rre150d0</td>\n",
       "      <td>Eidg. Institut für Schnee- und Lawinenforschung</td>\n",
       "      <td>8°04'/46°40'</td>\n",
       "      <td>647900/168780</td>\n",
       "      <td>2110</td>\n",
       "    </tr>\n",
       "    <tr>\n",
       "      <th>SLFGAD</th>\n",
       "      <td>Gadmen / Gschletteregg</td>\n",
       "      <td>rre150d0</td>\n",
       "      <td>Eidg. Institut für Schnee- und Lawinenforschung</td>\n",
       "      <td>8°24'/46°45'</td>\n",
       "      <td>673270/177465</td>\n",
       "      <td>2060</td>\n",
       "    </tr>\n",
       "    <tr>\n",
       "      <th>SLFGO3</th>\n",
       "      <td>Goms / Treichbode</td>\n",
       "      <td>rre150d0</td>\n",
       "      <td>Eidg. Institut für Schnee- und Lawinenforschung</td>\n",
       "      <td>8°14'/46°29'</td>\n",
       "      <td>660650/148950</td>\n",
       "      <td>2430</td>\n",
       "    </tr>\n",
       "    <tr>\n",
       "      <th>SLFGU2</th>\n",
       "      <td>Guttannen / Homad</td>\n",
       "      <td>rre150d0</td>\n",
       "      <td>Eidg. Institut für Schnee- und Lawinenforschung</td>\n",
       "      <td>8°17'/46°41'</td>\n",
       "      <td>665100/170100</td>\n",
       "      <td>2110</td>\n",
       "    </tr>\n",
       "    <tr>\n",
       "      <th>SLFSH2</th>\n",
       "      <td>Schilthorn / Türliboden</td>\n",
       "      <td>rre150d0</td>\n",
       "      <td>Eidg. Institut für Schnee- und Lawinenforschung</td>\n",
       "      <td>7°50'/46°35'</td>\n",
       "      <td>630380/158450</td>\n",
       "      <td>2360</td>\n",
       "    </tr>\n",
       "    <tr>\n",
       "      <th>SLFUR2</th>\n",
       "      <td>Urseren / Giltnasen</td>\n",
       "      <td>rre150d0</td>\n",
       "      <td>Eidg. Institut für Schnee- und Lawinenforschung</td>\n",
       "      <td>8°31'/46°35'</td>\n",
       "      <td>682400/160100</td>\n",
       "      <td>2170</td>\n",
       "    </tr>\n",
       "  </tbody>\n",
       "</table>\n",
       "</div>"
      ],
      "text/plain": [
       "                           Name Parameter  \\\n",
       "SLFFIR      Grindelwald / First  rre150d0   \n",
       "SLFGAD   Gadmen / Gschletteregg  rre150d0   \n",
       "SLFGO3        Goms / Treichbode  rre150d0   \n",
       "SLFGU2        Guttannen / Homad  rre150d0   \n",
       "SLFSH2  Schilthorn / Türliboden  rre150d0   \n",
       "SLFUR2      Urseren / Giltnasen  rre150d0   \n",
       "\n",
       "                                            Data source Longitude/Latitude  \\\n",
       "SLFFIR  Eidg. Institut für Schnee- und Lawinenforschung       8°04'/46°40'   \n",
       "SLFGAD  Eidg. Institut für Schnee- und Lawinenforschung       8°24'/46°45'   \n",
       "SLFGO3  Eidg. Institut für Schnee- und Lawinenforschung       8°14'/46°29'   \n",
       "SLFGU2  Eidg. Institut für Schnee- und Lawinenforschung       8°17'/46°41'   \n",
       "SLFSH2  Eidg. Institut für Schnee- und Lawinenforschung       7°50'/46°35'   \n",
       "SLFUR2  Eidg. Institut für Schnee- und Lawinenforschung       8°31'/46°35'   \n",
       "\n",
       "       Coordinates [km]  Elevation [m]  \n",
       "SLFFIR    647900/168780           2110  \n",
       "SLFGAD    673270/177465           2060  \n",
       "SLFGO3    660650/148950           2430  \n",
       "SLFGU2    665100/170100           2110  \n",
       "SLFSH2    630380/158450           2360  \n",
       "SLFUR2    682400/160100           2170  "
      ]
     },
     "execution_count": 6,
     "metadata": {},
     "output_type": "execute_result"
    }
   ],
   "source": [
    "# specify path to station meta file\n",
    "path = '../raw_data/station_data/slf_stations.csv'\n",
    "stations = pd.read_csv(path, index_col=0)\n",
    "stations"
   ]
  },
  {
   "cell_type": "code",
   "execution_count": 7,
   "metadata": {},
   "outputs": [],
   "source": [
    "# subset for neccessary information only\n",
    "slf = stations[['Name', 'Coordinates [km]', 'Elevation [m]']].copy()\n",
    "slf.columns = ['name', 'coords', 'alti']"
   ]
  },
  {
   "cell_type": "code",
   "execution_count": 8,
   "metadata": {},
   "outputs": [],
   "source": [
    "# get longitude and latitude parameters\n",
    "coords = slf.coords.str.split('/')\n",
    "\n",
    "# specify CH1903+/LV95 EPSG code\n",
    "EPSG = 2056  \n",
    "\n",
    "# iterate over all stations\n",
    "for stn, _ in slf.iterrows():\n",
    "    # split into lon and lat value and\n",
    "    # add omitted leading numbers to CH1903+ coords\n",
    "    lon = float(coords[stn][0]) + 2e6\n",
    "    lat = float(coords[stn][1]) + 1e6\n",
    "        # convert into WGS84 coords\n",
    "    lon, lat = mutils.convert_to_wgs84(lon, lat, EPSG)\n",
    "    # add to DataFrame\n",
    "    slf.loc[stn, 'lon'] = lon\n",
    "    slf.loc[stn, 'lat'] = lat"
   ]
  },
  {
   "cell_type": "code",
   "execution_count": 9,
   "metadata": {},
   "outputs": [
    {
     "data": {
      "text/html": [
       "<div>\n",
       "<style scoped>\n",
       "    .dataframe tbody tr th:only-of-type {\n",
       "        vertical-align: middle;\n",
       "    }\n",
       "\n",
       "    .dataframe tbody tr th {\n",
       "        vertical-align: top;\n",
       "    }\n",
       "\n",
       "    .dataframe thead th {\n",
       "        text-align: right;\n",
       "    }\n",
       "</style>\n",
       "<table border=\"1\" class=\"dataframe\">\n",
       "  <thead>\n",
       "    <tr style=\"text-align: right;\">\n",
       "      <th></th>\n",
       "      <th>name</th>\n",
       "      <th>coords</th>\n",
       "      <th>alti</th>\n",
       "      <th>lon</th>\n",
       "      <th>lat</th>\n",
       "    </tr>\n",
       "  </thead>\n",
       "  <tbody>\n",
       "    <tr>\n",
       "      <th>SLFFIR</th>\n",
       "      <td>Grindelwald / First</td>\n",
       "      <td>647900/168780</td>\n",
       "      <td>2110</td>\n",
       "      <td>8.064570</td>\n",
       "      <td>46.668533</td>\n",
       "    </tr>\n",
       "    <tr>\n",
       "      <th>SLFGAD</th>\n",
       "      <td>Gadmen / Gschletteregg</td>\n",
       "      <td>673270/177465</td>\n",
       "      <td>2060</td>\n",
       "      <td>8.397452</td>\n",
       "      <td>46.744351</td>\n",
       "    </tr>\n",
       "    <tr>\n",
       "      <th>SLFGO3</th>\n",
       "      <td>Goms / Treichbode</td>\n",
       "      <td>660650/148950</td>\n",
       "      <td>2430</td>\n",
       "      <td>8.228563</td>\n",
       "      <td>46.489124</td>\n",
       "    </tr>\n",
       "    <tr>\n",
       "      <th>SLFGU2</th>\n",
       "      <td>Guttannen / Homad</td>\n",
       "      <td>665100/170100</td>\n",
       "      <td>2110</td>\n",
       "      <td>8.289503</td>\n",
       "      <td>46.678951</td>\n",
       "    </tr>\n",
       "    <tr>\n",
       "      <th>SLFSH2</th>\n",
       "      <td>Schilthorn / Türliboden</td>\n",
       "      <td>630380/158450</td>\n",
       "      <td>2360</td>\n",
       "      <td>7.834952</td>\n",
       "      <td>46.576636</td>\n",
       "    </tr>\n",
       "    <tr>\n",
       "      <th>SLFUR2</th>\n",
       "      <td>Urseren / Giltnasen</td>\n",
       "      <td>682400/160100</td>\n",
       "      <td>2170</td>\n",
       "      <td>8.513800</td>\n",
       "      <td>46.587093</td>\n",
       "    </tr>\n",
       "  </tbody>\n",
       "</table>\n",
       "</div>"
      ],
      "text/plain": [
       "                           name         coords  alti       lon        lat\n",
       "SLFFIR      Grindelwald / First  647900/168780  2110  8.064570  46.668533\n",
       "SLFGAD   Gadmen / Gschletteregg  673270/177465  2060  8.397452  46.744351\n",
       "SLFGO3        Goms / Treichbode  660650/148950  2430  8.228563  46.489124\n",
       "SLFGU2        Guttannen / Homad  665100/170100  2110  8.289503  46.678951\n",
       "SLFSH2  Schilthorn / Türliboden  630380/158450  2360  7.834952  46.576636\n",
       "SLFUR2      Urseren / Giltnasen  682400/160100  2170  8.513800  46.587093"
      ]
     },
     "execution_count": 9,
     "metadata": {},
     "output_type": "execute_result"
    }
   ],
   "source": [
    "slf"
   ]
  },
  {
   "cell_type": "code",
   "execution_count": 10,
   "metadata": {},
   "outputs": [
    {
     "data": {
      "text/html": [
       "<div>\n",
       "<style scoped>\n",
       "    .dataframe tbody tr th:only-of-type {\n",
       "        vertical-align: middle;\n",
       "    }\n",
       "\n",
       "    .dataframe tbody tr th {\n",
       "        vertical-align: top;\n",
       "    }\n",
       "\n",
       "    .dataframe thead th {\n",
       "        text-align: right;\n",
       "    }\n",
       "</style>\n",
       "<table border=\"1\" class=\"dataframe\">\n",
       "  <thead>\n",
       "    <tr style=\"text-align: right;\">\n",
       "      <th></th>\n",
       "      <th>name</th>\n",
       "      <th>coords</th>\n",
       "      <th>alti</th>\n",
       "      <th>lon</th>\n",
       "      <th>lat</th>\n",
       "      <th>yearly_precip</th>\n",
       "    </tr>\n",
       "  </thead>\n",
       "  <tbody>\n",
       "    <tr>\n",
       "      <th>SLFFIR</th>\n",
       "      <td>Grindelwald / First</td>\n",
       "      <td>647900/168780</td>\n",
       "      <td>2110</td>\n",
       "      <td>8.064570</td>\n",
       "      <td>46.668533</td>\n",
       "      <td>1166.133356</td>\n",
       "    </tr>\n",
       "    <tr>\n",
       "      <th>SLFGAD</th>\n",
       "      <td>Gadmen / Gschletteregg</td>\n",
       "      <td>673270/177465</td>\n",
       "      <td>2060</td>\n",
       "      <td>8.397452</td>\n",
       "      <td>46.744351</td>\n",
       "      <td>1242.102748</td>\n",
       "    </tr>\n",
       "    <tr>\n",
       "      <th>SLFGO3</th>\n",
       "      <td>Goms / Treichbode</td>\n",
       "      <td>660650/148950</td>\n",
       "      <td>2430</td>\n",
       "      <td>8.228563</td>\n",
       "      <td>46.489124</td>\n",
       "      <td>802.046200</td>\n",
       "    </tr>\n",
       "    <tr>\n",
       "      <th>SLFGU2</th>\n",
       "      <td>Guttannen / Homad</td>\n",
       "      <td>665100/170100</td>\n",
       "      <td>2110</td>\n",
       "      <td>8.289503</td>\n",
       "      <td>46.678951</td>\n",
       "      <td>941.062073</td>\n",
       "    </tr>\n",
       "    <tr>\n",
       "      <th>SLFSH2</th>\n",
       "      <td>Schilthorn / Türliboden</td>\n",
       "      <td>630380/158450</td>\n",
       "      <td>2360</td>\n",
       "      <td>7.834952</td>\n",
       "      <td>46.576636</td>\n",
       "      <td>1135.776210</td>\n",
       "    </tr>\n",
       "    <tr>\n",
       "      <th>SLFUR2</th>\n",
       "      <td>Urseren / Giltnasen</td>\n",
       "      <td>682400/160100</td>\n",
       "      <td>2170</td>\n",
       "      <td>8.513800</td>\n",
       "      <td>46.587093</td>\n",
       "      <td>913.500802</td>\n",
       "    </tr>\n",
       "  </tbody>\n",
       "</table>\n",
       "</div>"
      ],
      "text/plain": [
       "                           name         coords  alti       lon        lat  \\\n",
       "SLFFIR      Grindelwald / First  647900/168780  2110  8.064570  46.668533   \n",
       "SLFGAD   Gadmen / Gschletteregg  673270/177465  2060  8.397452  46.744351   \n",
       "SLFGO3        Goms / Treichbode  660650/148950  2430  8.228563  46.489124   \n",
       "SLFGU2        Guttannen / Homad  665100/170100  2110  8.289503  46.678951   \n",
       "SLFSH2  Schilthorn / Türliboden  630380/158450  2360  7.834952  46.576636   \n",
       "SLFUR2      Urseren / Giltnasen  682400/160100  2170  8.513800  46.587093   \n",
       "\n",
       "        yearly_precip  \n",
       "SLFFIR    1166.133356  \n",
       "SLFGAD    1242.102748  \n",
       "SLFGO3     802.046200  \n",
       "SLFGU2     941.062073  \n",
       "SLFSH2    1135.776210  \n",
       "SLFUR2     913.500802  "
      ]
     },
     "execution_count": 10,
     "metadata": {},
     "output_type": "execute_result"
    }
   ],
   "source": [
    "# read average annual precipitation of SLF stations\n",
    "path = '../raw_data/station_data/yearly_precip_avg_slf.csv'\n",
    "precip_avg_slf = pd.read_csv(path, index_col=0, squeeze=True, names=['yearly_precip'])\n",
    "# add to SLF DataFrame\n",
    "slf['yearly_precip'] = precip_avg_slf\n",
    "slf"
   ]
  },
  {
   "cell_type": "markdown",
   "metadata": {},
   "source": [
    "### Temperature station"
   ]
  },
  {
   "cell_type": "code",
   "execution_count": 11,
   "metadata": {},
   "outputs": [
    {
     "data": {
      "text/html": [
       "<div>\n",
       "<style scoped>\n",
       "    .dataframe tbody tr th:only-of-type {\n",
       "        vertical-align: middle;\n",
       "    }\n",
       "\n",
       "    .dataframe tbody tr th {\n",
       "        vertical-align: top;\n",
       "    }\n",
       "\n",
       "    .dataframe thead th {\n",
       "        text-align: right;\n",
       "    }\n",
       "</style>\n",
       "<table border=\"1\" class=\"dataframe\">\n",
       "  <thead>\n",
       "    <tr style=\"text-align: right;\">\n",
       "      <th></th>\n",
       "      <th>Name</th>\n",
       "      <th>Parameter</th>\n",
       "      <th>Data source</th>\n",
       "      <th>Longitude/Latitude</th>\n",
       "      <th>Coordinates [km]</th>\n",
       "      <th>Elevation [m]</th>\n",
       "    </tr>\n",
       "    <tr>\n",
       "      <th>stn</th>\n",
       "      <th></th>\n",
       "      <th></th>\n",
       "      <th></th>\n",
       "      <th></th>\n",
       "      <th></th>\n",
       "      <th></th>\n",
       "    </tr>\n",
       "  </thead>\n",
       "  <tbody>\n",
       "    <tr>\n",
       "      <th>JUN</th>\n",
       "      <td>Jungfraujoch</td>\n",
       "      <td>tre200m0</td>\n",
       "      <td>MeteoSchweiz</td>\n",
       "      <td>7°59'/46°33'</td>\n",
       "      <td>641930/155275</td>\n",
       "      <td>3580</td>\n",
       "    </tr>\n",
       "  </tbody>\n",
       "</table>\n",
       "</div>"
      ],
      "text/plain": [
       "             Name Parameter   Data source Longitude/Latitude Coordinates [km]  \\\n",
       "stn                                                                             \n",
       "JUN  Jungfraujoch  tre200m0  MeteoSchweiz       7°59'/46°33'    641930/155275   \n",
       "\n",
       "     Elevation [m]  \n",
       "stn                 \n",
       "JUN           3580  "
      ]
     },
     "execution_count": 11,
     "metadata": {},
     "output_type": "execute_result"
    }
   ],
   "source": [
    "# specify path to station meta file\n",
    "path = '../raw_data/station_data/monthly_temp_stations.csv'\n",
    "stations = pd.read_csv(path, index_col=0)\n",
    "stations"
   ]
  },
  {
   "cell_type": "code",
   "execution_count": 12,
   "metadata": {},
   "outputs": [],
   "source": [
    "# subset for neccessary information only\n",
    "temp = stations[['Name', 'Coordinates [km]', 'Elevation [m]']].copy()\n",
    "temp.columns = ['name', 'coords', 'alti']"
   ]
  },
  {
   "cell_type": "code",
   "execution_count": 13,
   "metadata": {},
   "outputs": [],
   "source": [
    "# get longitude and latitude parameters\n",
    "coords = temp.coords.str.split('/')\n",
    "\n",
    "# specify CH1903+/LV95 EPSG code\n",
    "EPSG = 2056  \n",
    "\n",
    "# iterate over all stations\n",
    "for stn, _ in temp.iterrows():\n",
    "    # split into lon and lat value and\n",
    "    # add omitted leading numbers to CH1903+ coords\n",
    "    lon = float(coords[stn][0]) + 2e6\n",
    "    lat = float(coords[stn][1]) + 1e6\n",
    "    # convert into WGS84 coords\n",
    "    lon, lat = mutils.convert_to_wgs84(lon, lat, EPSG)\n",
    "    # add to DataFrame\n",
    "    temp.loc[stn, 'lon'] = lon\n",
    "    temp.loc[stn, 'lat'] = lat"
   ]
  },
  {
   "cell_type": "code",
   "execution_count": 14,
   "metadata": {},
   "outputs": [
    {
     "data": {
      "text/html": [
       "<div>\n",
       "<style scoped>\n",
       "    .dataframe tbody tr th:only-of-type {\n",
       "        vertical-align: middle;\n",
       "    }\n",
       "\n",
       "    .dataframe tbody tr th {\n",
       "        vertical-align: top;\n",
       "    }\n",
       "\n",
       "    .dataframe thead th {\n",
       "        text-align: right;\n",
       "    }\n",
       "</style>\n",
       "<table border=\"1\" class=\"dataframe\">\n",
       "  <thead>\n",
       "    <tr style=\"text-align: right;\">\n",
       "      <th></th>\n",
       "      <th>name</th>\n",
       "      <th>coords</th>\n",
       "      <th>alti</th>\n",
       "      <th>lon</th>\n",
       "      <th>lat</th>\n",
       "    </tr>\n",
       "    <tr>\n",
       "      <th>stn</th>\n",
       "      <th></th>\n",
       "      <th></th>\n",
       "      <th></th>\n",
       "      <th></th>\n",
       "      <th></th>\n",
       "    </tr>\n",
       "  </thead>\n",
       "  <tbody>\n",
       "    <tr>\n",
       "      <th>JUN</th>\n",
       "      <td>Jungfraujoch</td>\n",
       "      <td>641930/155275</td>\n",
       "      <td>3580</td>\n",
       "      <td>7.985331</td>\n",
       "      <td>46.547452</td>\n",
       "    </tr>\n",
       "  </tbody>\n",
       "</table>\n",
       "</div>"
      ],
      "text/plain": [
       "             name         coords  alti       lon        lat\n",
       "stn                                                        \n",
       "JUN  Jungfraujoch  641930/155275  3580  7.985331  46.547452"
      ]
     },
     "execution_count": 14,
     "metadata": {},
     "output_type": "execute_result"
    }
   ],
   "source": [
    "temp"
   ]
  },
  {
   "cell_type": "markdown",
   "metadata": {},
   "source": [
    "### Glacier and Histalp reference location\n",
    "Specify glacier and histalp reference location in same format as the stations above..."
   ]
  },
  {
   "cell_type": "code",
   "execution_count": 15,
   "metadata": {},
   "outputs": [
    {
     "data": {
      "text/html": [
       "<div>\n",
       "<style scoped>\n",
       "    .dataframe tbody tr th:only-of-type {\n",
       "        vertical-align: middle;\n",
       "    }\n",
       "\n",
       "    .dataframe tbody tr th {\n",
       "        vertical-align: top;\n",
       "    }\n",
       "\n",
       "    .dataframe thead th {\n",
       "        text-align: right;\n",
       "    }\n",
       "</style>\n",
       "<table border=\"1\" class=\"dataframe\">\n",
       "  <thead>\n",
       "    <tr style=\"text-align: right;\">\n",
       "      <th></th>\n",
       "      <th>name</th>\n",
       "      <th>lon</th>\n",
       "      <th>lat</th>\n",
       "    </tr>\n",
       "  </thead>\n",
       "  <tbody>\n",
       "    <tr>\n",
       "      <th>UGG</th>\n",
       "      <td>Upper Grindelwald Glacier</td>\n",
       "      <td>8.11933</td>\n",
       "      <td>46.6143</td>\n",
       "    </tr>\n",
       "  </tbody>\n",
       "</table>\n",
       "</div>"
      ],
      "text/plain": [
       "                          name      lon      lat\n",
       "UGG  Upper Grindelwald Glacier  8.11933  46.6143"
      ]
     },
     "execution_count": 15,
     "metadata": {},
     "output_type": "execute_result"
    }
   ],
   "source": [
    "# define glacier DataFrame\n",
    "glacier = pd.DataFrame(\n",
    "    {'name': 'Upper Grindelwald Glacier',\n",
    "     'lon': 8.11933,\n",
    "     'lat': 46.6143}, index=['UGG'])\n",
    "glacier"
   ]
  },
  {
   "cell_type": "code",
   "execution_count": 16,
   "metadata": {},
   "outputs": [
    {
     "data": {
      "text/html": [
       "<div>\n",
       "<style scoped>\n",
       "    .dataframe tbody tr th:only-of-type {\n",
       "        vertical-align: middle;\n",
       "    }\n",
       "\n",
       "    .dataframe tbody tr th {\n",
       "        vertical-align: top;\n",
       "    }\n",
       "\n",
       "    .dataframe thead th {\n",
       "        text-align: right;\n",
       "    }\n",
       "</style>\n",
       "<table border=\"1\" class=\"dataframe\">\n",
       "  <thead>\n",
       "    <tr style=\"text-align: right;\">\n",
       "      <th></th>\n",
       "      <th>name</th>\n",
       "      <th>lon</th>\n",
       "      <th>lat</th>\n",
       "    </tr>\n",
       "  </thead>\n",
       "  <tbody>\n",
       "    <tr>\n",
       "      <th>HISTALP</th>\n",
       "      <td>HistAlp reference location</td>\n",
       "      <td>8.083333</td>\n",
       "      <td>46.583333</td>\n",
       "    </tr>\n",
       "  </tbody>\n",
       "</table>\n",
       "</div>"
      ],
      "text/plain": [
       "                               name       lon        lat\n",
       "HISTALP  HistAlp reference location  8.083333  46.583333"
      ]
     },
     "execution_count": 16,
     "metadata": {},
     "output_type": "execute_result"
    }
   ],
   "source": [
    "# define HistAlp DataFrame\n",
    "histalp = pd.DataFrame(\n",
    "    {'name': 'HistAlp reference location',\n",
    "     'lon': 8.08333333333175,\n",
    "     'lat': 46.58333333333195}, index=['HISTALP'])\n",
    "histalp"
   ]
  },
  {
   "cell_type": "code",
   "execution_count": null,
   "metadata": {},
   "outputs": [],
   "source": []
  },
  {
   "cell_type": "markdown",
   "metadata": {},
   "source": [
    "## Plot map"
   ]
  },
  {
   "cell_type": "code",
   "execution_count": 18,
   "metadata": {},
   "outputs": [
    {
     "data": {
      "text/html": [
       "<script>requirejs.config({paths: { 'plotly': ['https://cdn.plot.ly/plotly-latest.min']},});if(!window.Plotly) {{require(['plotly'],function(plotly) {window.Plotly=plotly;});}}</script>"
      ],
      "text/vnd.plotly.v1+html": [
       "<script>requirejs.config({paths: { 'plotly': ['https://cdn.plot.ly/plotly-latest.min']},});if(!window.Plotly) {{require(['plotly'],function(plotly) {window.Plotly=plotly;});}}</script>"
      ]
     },
     "metadata": {},
     "output_type": "display_data"
    },
    {
     "data": {
      "application/vnd.plotly.v1+json": {
       "data": [
        {
         "hoverinfo": "none",
         "lat": [
          46.57517371122594,
          46.58419675794019
         ],
         "lon": [
          7.972827126064445,
          7.9591643258478095
         ],
         "marker": {
          "color": "#1e3799",
          "size": 14
         },
         "mode": "markers+text",
         "name": "Precipitation records",
         "text": [
          "EIG",
          "KSE"
         ],
         "textposition": "top right",
         "type": "scattermapbox",
         "uid": "c0be8a74-f24f-11e8-b8a1-84383547aaa6"
        },
        {
         "hoverinfo": "none",
         "lat": [
          46.6685328888448,
          46.744351153054254,
          46.48912369101425,
          46.678951143400205,
          46.576636354722105,
          46.58709286748025
         ],
         "lon": [
          8.064570129634914,
          8.397451665915993,
          8.228562959912995,
          8.289502703676357,
          7.834951982237528,
          8.513800028520908
         ],
         "marker": {
          "color": "#427AA1",
          "size": 14
         },
         "mode": "markers+text",
         "name": "SLF stations",
         "text": [
          "SLFFIR\n1166 mm/y",
          "SLFGAD\n1242 mm/y",
          "SLFGO3\n802 mm/y",
          "SLFGU2\n941 mm/y",
          "SLFSH2\n1136 mm/y",
          "SLFUR2\n914 mm/y"
         ],
         "textposition": "top right",
         "type": "scattermapbox",
         "uid": "c0be965e-f24f-11e8-849e-84383547aaa6"
        },
        {
         "hoverinfo": "none",
         "lat": [
          46.547452294684845
         ],
         "lon": [
          7.9853314858274445
         ],
         "marker": {
          "color": "#D17A22",
          "size": 14
         },
         "mode": "markers+text",
         "name": "Temperature records",
         "text": [
          "JUN"
         ],
         "textposition": "top right",
         "type": "scattermapbox",
         "uid": "c0be9794-f24f-11e8-807b-84383547aaa6"
        },
        {
         "hoverinfo": "none",
         "lat": [
          46.6143
         ],
         "lon": [
          8.11933
         ],
         "marker": {
          "color": "#FCBF49",
          "size": 14
         },
         "mode": "markers+text",
         "name": "Glacier",
         "text": [
          "Upper Grindelwald Glacier"
         ],
         "type": "scattermapbox",
         "uid": "c0be988c-f24f-11e8-b39c-84383547aaa6"
        },
        {
         "hoverinfo": "none",
         "lat": [
          46.58333333333195
         ],
         "lon": [
          8.08333333333175
         ],
         "marker": {
          "color": "#736F4E",
          "size": 14
         },
         "mode": "markers+text",
         "name": "HistAlp",
         "text": [
          "HistAlp reference location"
         ],
         "type": "scattermapbox",
         "uid": "c0be997e-f24f-11e8-9e31-84383547aaa6"
        }
       ],
       "layout": {
        "autosize": true,
        "height": 500,
        "hovermode": "closest",
        "mapbox": {
         "accesstoken": "pk.eyJ1Ijoib2JlcnJhdWNoIiwiYSI6ImNqbTBjaGprYjI3amIzdm9icDQ2bGV6NGEifQ.FmnRlRom8kc4D15utRiD_A",
         "bearing": 0,
         "center": {
          "lat": 46.58333333333195,
          "lon": 8.08333333333175
         },
         "pitch": 0,
         "style": "outdoors",
         "zoom": 10.5
        },
        "margin": {
         "b": 20,
         "l": 10,
         "pad": 0,
         "r": 10,
         "t": 40
        },
        "title": "Stations",
        "width": 800
       }
      },
      "text/html": [
       "<div id=\"a6e5ca95-8670-44d3-9de2-6f42798e37fd\" style=\"height: 500px; width: 800px;\" class=\"plotly-graph-div\"></div><script type=\"text/javascript\">require([\"plotly\"], function(Plotly) { window.PLOTLYENV=window.PLOTLYENV || {};window.PLOTLYENV.BASE_URL=\"https://plot.ly\";Plotly.newPlot(\"a6e5ca95-8670-44d3-9de2-6f42798e37fd\", [{\"hoverinfo\": \"none\", \"lat\": [46.57517371122594, 46.58419675794019], \"lon\": [7.972827126064445, 7.9591643258478095], \"marker\": {\"color\": \"#1e3799\", \"size\": 14}, \"mode\": \"markers+text\", \"name\": \"Precipitation records\", \"text\": [\"EIG\", \"KSE\"], \"textposition\": \"top right\", \"type\": \"scattermapbox\", \"uid\": \"c0c5828c-f24f-11e8-8e40-84383547aaa6\"}, {\"hoverinfo\": \"none\", \"lat\": [46.6685328888448, 46.744351153054254, 46.48912369101425, 46.678951143400205, 46.576636354722105, 46.58709286748025], \"lon\": [8.064570129634914, 8.397451665915993, 8.228562959912995, 8.289502703676357, 7.834951982237528, 8.513800028520908], \"marker\": {\"color\": \"#427AA1\", \"size\": 14}, \"mode\": \"markers+text\", \"name\": \"SLF stations\", \"text\": [\"SLFFIR\\n1166 mm/y\", \"SLFGAD\\n1242 mm/y\", \"SLFGO3\\n802 mm/y\", \"SLFGU2\\n941 mm/y\", \"SLFSH2\\n1136 mm/y\", \"SLFUR2\\n914 mm/y\"], \"textposition\": \"top right\", \"type\": \"scattermapbox\", \"uid\": \"c0c5848c-f24f-11e8-8349-84383547aaa6\"}, {\"hoverinfo\": \"none\", \"lat\": [46.547452294684845], \"lon\": [7.9853314858274445], \"marker\": {\"color\": \"#D17A22\", \"size\": 14}, \"mode\": \"markers+text\", \"name\": \"Temperature records\", \"text\": [\"JUN\"], \"textposition\": \"top right\", \"type\": \"scattermapbox\", \"uid\": \"c0c585ae-f24f-11e8-9980-84383547aaa6\"}, {\"hoverinfo\": \"none\", \"lat\": [46.6143], \"lon\": [8.11933], \"marker\": {\"color\": \"#FCBF49\", \"size\": 14}, \"mode\": \"markers+text\", \"name\": \"Glacier\", \"text\": [\"Upper Grindelwald Glacier\"], \"type\": \"scattermapbox\", \"uid\": \"c0c5869e-f24f-11e8-acf6-84383547aaa6\"}, {\"hoverinfo\": \"none\", \"lat\": [46.58333333333195], \"lon\": [8.08333333333175], \"marker\": {\"color\": \"#736F4E\", \"size\": 14}, \"mode\": \"markers+text\", \"name\": \"HistAlp\", \"text\": [\"HistAlp reference location\"], \"type\": \"scattermapbox\", \"uid\": \"c0c58786-f24f-11e8-9bdd-84383547aaa6\"}], {\"autosize\": true, \"height\": 500, \"hovermode\": \"closest\", \"mapbox\": {\"accesstoken\": \"pk.eyJ1Ijoib2JlcnJhdWNoIiwiYSI6ImNqbTBjaGprYjI3amIzdm9icDQ2bGV6NGEifQ.FmnRlRom8kc4D15utRiD_A\", \"bearing\": 0, \"center\": {\"lat\": 46.58333333333195, \"lon\": 8.08333333333175}, \"pitch\": 0, \"style\": \"outdoors\", \"zoom\": 10.5}, \"margin\": {\"b\": 20, \"l\": 10, \"pad\": 0, \"r\": 10, \"t\": 40}, \"title\": \"Stations\", \"width\": 800}, {\"showLink\": true, \"linkText\": \"Export to plot.ly\"})});</script>"
      ],
      "text/vnd.plotly.v1+html": [
       "<div id=\"a6e5ca95-8670-44d3-9de2-6f42798e37fd\" style=\"height: 500px; width: 800px;\" class=\"plotly-graph-div\"></div><script type=\"text/javascript\">require([\"plotly\"], function(Plotly) { window.PLOTLYENV=window.PLOTLYENV || {};window.PLOTLYENV.BASE_URL=\"https://plot.ly\";Plotly.newPlot(\"a6e5ca95-8670-44d3-9de2-6f42798e37fd\", [{\"hoverinfo\": \"none\", \"lat\": [46.57517371122594, 46.58419675794019], \"lon\": [7.972827126064445, 7.9591643258478095], \"marker\": {\"color\": \"#1e3799\", \"size\": 14}, \"mode\": \"markers+text\", \"name\": \"Precipitation records\", \"text\": [\"EIG\", \"KSE\"], \"textposition\": \"top right\", \"type\": \"scattermapbox\", \"uid\": \"c0c5828c-f24f-11e8-8e40-84383547aaa6\"}, {\"hoverinfo\": \"none\", \"lat\": [46.6685328888448, 46.744351153054254, 46.48912369101425, 46.678951143400205, 46.576636354722105, 46.58709286748025], \"lon\": [8.064570129634914, 8.397451665915993, 8.228562959912995, 8.289502703676357, 7.834951982237528, 8.513800028520908], \"marker\": {\"color\": \"#427AA1\", \"size\": 14}, \"mode\": \"markers+text\", \"name\": \"SLF stations\", \"text\": [\"SLFFIR\\n1166 mm/y\", \"SLFGAD\\n1242 mm/y\", \"SLFGO3\\n802 mm/y\", \"SLFGU2\\n941 mm/y\", \"SLFSH2\\n1136 mm/y\", \"SLFUR2\\n914 mm/y\"], \"textposition\": \"top right\", \"type\": \"scattermapbox\", \"uid\": \"c0c5848c-f24f-11e8-8349-84383547aaa6\"}, {\"hoverinfo\": \"none\", \"lat\": [46.547452294684845], \"lon\": [7.9853314858274445], \"marker\": {\"color\": \"#D17A22\", \"size\": 14}, \"mode\": \"markers+text\", \"name\": \"Temperature records\", \"text\": [\"JUN\"], \"textposition\": \"top right\", \"type\": \"scattermapbox\", \"uid\": \"c0c585ae-f24f-11e8-9980-84383547aaa6\"}, {\"hoverinfo\": \"none\", \"lat\": [46.6143], \"lon\": [8.11933], \"marker\": {\"color\": \"#FCBF49\", \"size\": 14}, \"mode\": \"markers+text\", \"name\": \"Glacier\", \"text\": [\"Upper Grindelwald Glacier\"], \"type\": \"scattermapbox\", \"uid\": \"c0c5869e-f24f-11e8-acf6-84383547aaa6\"}, {\"hoverinfo\": \"none\", \"lat\": [46.58333333333195], \"lon\": [8.08333333333175], \"marker\": {\"color\": \"#736F4E\", \"size\": 14}, \"mode\": \"markers+text\", \"name\": \"HistAlp\", \"text\": [\"HistAlp reference location\"], \"type\": \"scattermapbox\", \"uid\": \"c0c58786-f24f-11e8-9bdd-84383547aaa6\"}], {\"autosize\": true, \"height\": 500, \"hovermode\": \"closest\", \"mapbox\": {\"accesstoken\": \"pk.eyJ1Ijoib2JlcnJhdWNoIiwiYSI6ImNqbTBjaGprYjI3amIzdm9icDQ2bGV6NGEifQ.FmnRlRom8kc4D15utRiD_A\", \"bearing\": 0, \"center\": {\"lat\": 46.58333333333195, \"lon\": 8.08333333333175}, \"pitch\": 0, \"style\": \"outdoors\", \"zoom\": 10.5}, \"margin\": {\"b\": 20, \"l\": 10, \"pad\": 0, \"r\": 10, \"t\": 40}, \"title\": \"Stations\", \"width\": 800}, {\"showLink\": true, \"linkText\": \"Export to plot.ly\"})});</script>"
      ]
     },
     "metadata": {},
     "output_type": "display_data"
    },
    {
     "data": {
      "text/plain": [
       "'file:///Users/oberrauch/work/grindelwald/notebooks/temp-plot.html'"
      ]
     },
     "execution_count": 18,
     "metadata": {},
     "output_type": "execute_result"
    }
   ],
   "source": [
    "# initialize plotly in the browser\n",
    "init_notebook_mode(connected=True)\n",
    "# specify mapbox access toke\n",
    "mapbox_access_token = 'pk.eyJ1Ijoib2JlcnJhdWNoIiwiYSI6ImNqbTBjaGprYjI3amIzdm9icDQ2bGV6NGEifQ.FmnRlRom8kc4D15utRiD_A'\n",
    "\n",
    "# create markers\n",
    "data = [\n",
    "    # long term precipitation stations\n",
    "    go.Scattermapbox(\n",
    "        name='Precipitation records',\n",
    "        lon=precip.lon.values,\n",
    "        lat=precip.lat.values,\n",
    "        mode='markers+text',\n",
    "        marker=dict(\n",
    "            size=14,\n",
    "            color=mycolors.precip\n",
    "        ),\n",
    "        text=precip.index.values,\n",
    "        textposition=\"top right\",\n",
    "        hoverinfo='none',\n",
    "    ),\n",
    "    # SLF stations\n",
    "    go.Scattermapbox(\n",
    "        name='SLF stations',\n",
    "        lon=slf.lon.values,\n",
    "        lat=slf.lat.values,\n",
    "        mode='markers+text',\n",
    "        marker=dict(\n",
    "            size=14,\n",
    "            color=mycolors.slf2\n",
    "        ),\n",
    "        text=['{}\\n{:.0f} mm/y'.format(name, precip) for name, precip in zip(slf.index, slf.yearly_precip)],\n",
    "        textposition=\"top right\",\n",
    "        hoverinfo='none'\n",
    "    ),\n",
    "    # long term temperature stations\n",
    "    go.Scattermapbox(\n",
    "        name='Temperature records',\n",
    "        lon=temp.lon.values,\n",
    "        lat=temp.lat.values,\n",
    "        mode='markers+text',\n",
    "        marker=dict(\n",
    "            size=14,\n",
    "            color=mycolors.temp\n",
    "        ),\n",
    "        text=temp.index.values,\n",
    "        textposition=\"top right\",\n",
    "        hoverinfo='none'\n",
    "    ),\n",
    "    # glacier\n",
    "    go.Scattermapbox(\n",
    "        name='Glacier',\n",
    "        lon=glacier.lon.values,\n",
    "        lat=glacier.lat.values,\n",
    "        mode='markers+text',\n",
    "        marker=dict(\n",
    "            size=14,\n",
    "            color=mycolors.glacier\n",
    "        ),\n",
    "        text=glacier.name.values,\n",
    "        hoverinfo='none'\n",
    "    ),\n",
    "    # HistAlp reference pixel\n",
    "    go.Scattermapbox(\n",
    "        name='HistAlp',\n",
    "        lon=histalp.lon.values,\n",
    "        lat=histalp.lat.values,\n",
    "        mode='markers+text',\n",
    "        marker=dict(\n",
    "            size=14,\n",
    "            color=mycolors.histalp\n",
    "        ),\n",
    "        text=histalp.name.values,\n",
    "        hoverinfo='none'\n",
    "    ),\n",
    "]\n",
    "\n",
    "# specify layout\n",
    "layout = go.Layout(\n",
    "    autosize=True,\n",
    "    title='Stations',\n",
    "    hovermode='closest',\n",
    "    width=800,\n",
    "    height=500,\n",
    "    margin=go.layout.Margin(\n",
    "        l=10,\n",
    "        r=10,\n",
    "        b=20,\n",
    "        t=40,\n",
    "        pad=0,\n",
    "    ),\n",
    "    mapbox=dict(\n",
    "        accesstoken=mapbox_access_token,\n",
    "        bearing=0,\n",
    "        center=dict(\n",
    "        lon=histalp.lon.values[-1],\n",
    "        lat=histalp.lat.values[-1]\n",
    "        ),\n",
    "        pitch=0,\n",
    "        zoom=10.5,\n",
    "        style='outdoors'\n",
    "    ),\n",
    ")\n",
    "\n",
    "# create map\n",
    "fig = dict(data=data, layout=layout)\n",
    "\n",
    "# plot/show map\n",
    "iplot(fig)\n",
    "path = '/Users/oberrauch/Desktop/grindel_map.html'\n",
    "plot(fig, path)"
   ]
  },
  {
   "cell_type": "code",
   "execution_count": null,
   "metadata": {},
   "outputs": [],
   "source": []
  }
 ],
 "metadata": {
  "hide_input": false,
  "kernelspec": {
   "display_name": "Python 3",
   "language": "python",
   "name": "python3"
  },
  "language_info": {
   "codemirror_mode": {
    "name": "ipython",
    "version": 3
   },
   "file_extension": ".py",
   "mimetype": "text/x-python",
   "name": "python",
   "nbconvert_exporter": "python",
   "pygments_lexer": "ipython3",
   "version": "3.6.5"
  },
  "toc": {
   "base_numbering": 1,
   "nav_menu": {},
   "number_sections": false,
   "sideBar": true,
   "skip_h1_title": true,
   "title_cell": "Table of Contents",
   "title_sidebar": "Contents",
   "toc_cell": false,
   "toc_position": {},
   "toc_section_display": true,
   "toc_window_display": false
  }
 },
 "nbformat": 4,
 "nbformat_minor": 2
}
