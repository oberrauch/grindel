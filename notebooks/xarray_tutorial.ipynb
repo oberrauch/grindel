{
 "cells": [
  {
   "cell_type": "markdown",
   "metadata": {},
   "source": [
    "## Quick overview\n",
    "Here are some quick examples of what you can do with `xarray.DataArray` objects. Everything is explained in much more detail in the rest of the documentation."
   ]
  },
  {
   "cell_type": "code",
   "execution_count": 5,
   "metadata": {},
   "outputs": [],
   "source": [
    "import numpy as np\n",
    "import pandas as pd\n",
    "import xarray as xr"
   ]
  },
  {
   "cell_type": "code",
   "execution_count": 2,
   "metadata": {},
   "outputs": [
    {
     "data": {
      "text/plain": [
       "<xarray.DataArray (dim_0: 2, dim_1: 3)>\n",
       "array([[0.51219 , 0.791741, 0.917879],\n",
       "       [0.548983, 0.870207, 0.369761]])\n",
       "Dimensions without coordinates: dim_0, dim_1"
      ]
     },
     "execution_count": 2,
     "metadata": {},
     "output_type": "execute_result"
    }
   ],
   "source": [
    "# create a DataArray\n",
    "data = np.random.rand(2, 3)\n",
    "da = xr.DataArray(data)\n",
    "da"
   ]
  },
  {
   "cell_type": "code",
   "execution_count": 3,
   "metadata": {},
   "outputs": [
    {
     "data": {
      "text/plain": [
       "<xarray.DataArray (x: 2, y: 3)>\n",
       "array([[0.51219 , 0.791741, 0.917879],\n",
       "       [0.548983, 0.870207, 0.369761]])\n",
       "Coordinates:\n",
       "  * x        (x) <U1 'a' 'b'\n",
       "Dimensions without coordinates: y"
      ]
     },
     "execution_count": 3,
     "metadata": {},
     "output_type": "execute_result"
    }
   ],
   "source": [
    "# add coordinates and dimensions\n",
    "coords = {'x': ['a', 'b']}\n",
    "dims = ('x', 'y')\n",
    "da = xr.DataArray(data, coords=coords, dims=dims)\n",
    "da"
   ]
  },
  {
   "cell_type": "code",
   "execution_count": 27,
   "metadata": {},
   "outputs": [
    {
     "name": "stdout",
     "output_type": "stream",
     "text": [
      "Values: [[0.42000529 0.75682862 0.04448223]\n",
      " [0.41255157 0.92480711 0.61577582]]\n",
      "Dimensions: ('x', 'y')\n",
      "Coordinates:\n",
      "  * x        (x) <U1 'a' 'b'\n",
      "Attributes: OrderedDict()\n"
     ]
    }
   ],
   "source": [
    "# access the different DataArray properties\n",
    "print('Values:', da.values)\n",
    "print('Dimensions:', da.dims)\n",
    "print(da.coords)\n",
    "print('Attributes:', da.attrs)"
   ]
  },
  {
   "cell_type": "code",
   "execution_count": 28,
   "metadata": {},
   "outputs": [
    {
     "data": {
      "text/plain": [
       "<xarray.DataArray 'foo' (dim_0: 3)>\n",
       "array([0.319231, 0.156316, 0.449283])\n",
       "Coordinates:\n",
       "  * dim_0    (dim_0) object 'a' 'b' 'c'"
      ]
     },
     "execution_count": 28,
     "metadata": {},
     "output_type": "execute_result"
    }
   ],
   "source": [
    "# metadata is copied directly from a pandas.Series or pandas.DataFrame\n",
    "data = np.random.rand(3)\n",
    "series = pd.Series(data, index=list('abc'), name='foo')\n",
    "xr.DataArray(series)"
   ]
  },
  {
   "cell_type": "markdown",
   "metadata": {},
   "source": [
    "## Indexing\n",
    "`xarray` supports four kinds of indexing. These operations are just as fast as in `pandas`, because they borrow `pandas`' indexing machinery."
   ]
  },
  {
   "cell_type": "code",
   "execution_count": 47,
   "metadata": {},
   "outputs": [
    {
     "data": {
      "text/plain": [
       "<xarray.DataArray (y: 3)>\n",
       "array([0.420005, 0.756829, 0.044482])\n",
       "Coordinates:\n",
       "    x        <U1 'a'\n",
       "Dimensions without coordinates: y"
      ]
     },
     "execution_count": 47,
     "metadata": {},
     "output_type": "execute_result"
    }
   ],
   "source": [
    "# positional indexing by integer label (like numpy)\n",
    "da[0]"
   ]
  },
  {
   "cell_type": "code",
   "execution_count": 48,
   "metadata": {},
   "outputs": [
    {
     "data": {
      "text/plain": [
       "<xarray.DataArray (y: 3)>\n",
       "array([0.412552, 0.924807, 0.615776])\n",
       "Coordinates:\n",
       "    x        <U1 'b'\n",
       "Dimensions without coordinates: y"
      ]
     },
     "execution_count": 48,
     "metadata": {},
     "output_type": "execute_result"
    }
   ],
   "source": [
    "# positional indexing by coordinate label (like pandas)\n",
    "da.loc['b']"
   ]
  },
  {
   "cell_type": "code",
   "execution_count": 57,
   "metadata": {},
   "outputs": [
    {
     "data": {
      "text/plain": [
       "<xarray.DataArray (x: 1, y: 3)>\n",
       "array([[0.412552, 0.924807, 0.615776]])\n",
       "Coordinates:\n",
       "  * x        (x) <U1 'b'\n",
       "Dimensions without coordinates: y"
      ]
     },
     "execution_count": 57,
     "metadata": {},
     "output_type": "execute_result"
    }
   ],
   "source": [
    "# by dimension name and integer label\n",
    "da.isel(x=[1])"
   ]
  },
  {
   "cell_type": "code",
   "execution_count": 58,
   "metadata": {},
   "outputs": [
    {
     "data": {
      "text/plain": [
       "<xarray.DataArray (x: 1, y: 3)>\n",
       "array([[0.420005, 0.756829, 0.044482]])\n",
       "Coordinates:\n",
       "  * x        (x) <U1 'a'\n",
       "Dimensions without coordinates: y"
      ]
     },
     "execution_count": 58,
     "metadata": {},
     "output_type": "execute_result"
    }
   ],
   "source": [
    "# by dimension name and coordinate label\n",
    "da.sel(x=['a'])"
   ]
  },
  {
   "cell_type": "markdown",
   "metadata": {},
   "source": [
    "## Computation\n",
    "`DataArray`s work very similarly to `numpy.ndarray`s."
   ]
  },
  {
   "cell_type": "code",
   "execution_count": 63,
   "metadata": {},
   "outputs": [
    {
     "data": {
      "text/plain": [
       "<xarray.DataArray (x: 2, y: 3)>\n",
       "array([[10.840011, 11.513657, 10.088964],\n",
       "       [10.825103, 11.849614, 11.231552]])\n",
       "Coordinates:\n",
       "  * x        (x) <U1 'a' 'b'\n",
       "Dimensions without coordinates: y"
      ]
     },
     "execution_count": 63,
     "metadata": {},
     "output_type": "execute_result"
    }
   ],
   "source": [
    "# arithmetic operations\n",
    "da * 2 + 10"
   ]
  },
  {
   "cell_type": "code",
   "execution_count": 64,
   "metadata": {},
   "outputs": [
    {
     "data": {
      "text/plain": [
       "<xarray.DataArray (x: 2, y: 3)>\n",
       "array([[0.407765, 0.686619, 0.044468],\n",
       "       [0.400948, 0.798505, 0.577592]])\n",
       "Coordinates:\n",
       "  * x        (x) <U1 'a' 'b'\n",
       "Dimensions without coordinates: y"
      ]
     },
     "execution_count": 64,
     "metadata": {},
     "output_type": "execute_result"
    }
   ],
   "source": [
    "# applying functions\n",
    "np.sin(da)"
   ]
  },
  {
   "cell_type": "code",
   "execution_count": 65,
   "metadata": {},
   "outputs": [
    {
     "data": {
      "text/plain": [
       "<xarray.DataArray (y: 3, x: 2)>\n",
       "array([[0.420005, 0.412552],\n",
       "       [0.756829, 0.924807],\n",
       "       [0.044482, 0.615776]])\n",
       "Coordinates:\n",
       "  * x        (x) <U1 'a' 'b'\n",
       "Dimensions without coordinates: y"
      ]
     },
     "execution_count": 65,
     "metadata": {},
     "output_type": "execute_result"
    }
   ],
   "source": [
    "# matrix operations\n",
    "da.T"
   ]
  },
  {
   "cell_type": "code",
   "execution_count": 67,
   "metadata": {},
   "outputs": [
    {
     "data": {
      "text/plain": [
       "<xarray.DataArray (x: 2)>\n",
       "array([1.221316, 1.953135])\n",
       "Coordinates:\n",
       "  * x        (x) <U1 'a' 'b'"
      ]
     },
     "execution_count": 67,
     "metadata": {},
     "output_type": "execute_result"
    }
   ],
   "source": [
    "# aggregation operations can use dimensions instead of axis numbers\n",
    "da.sum(dim='y')"
   ]
  },
  {
   "cell_type": "code",
   "execution_count": 102,
   "metadata": {},
   "outputs": [
    {
     "name": "stdout",
     "output_type": "stream",
     "text": [
      "<xarray.DataArray (base: 3)>\n",
      "array([1, 2, 3])\n",
      "Dimensions without coordinates: base \n",
      "\n",
      " <xarray.DataArray (magnitude: 4)>\n",
      "array([   1,   10,  100, 1000])\n",
      "Dimensions without coordinates: magnitude\n"
     ]
    }
   ],
   "source": [
    "# arithmetic operations broadcast based on dimension name\n",
    "a = xr.DataArray([1,2,3], dims='base')\n",
    "b = xr.DataArray(10**np.arange(4), dims='magnitude')\n",
    "print(a, '\\n\\n', b)"
   ]
  },
  {
   "cell_type": "code",
   "execution_count": 105,
   "metadata": {},
   "outputs": [
    {
     "data": {
      "text/plain": [
       "<xarray.DataArray (base: 3, magnitude: 4)>\n",
       "array([[   1,   10,  100, 1000],\n",
       "       [   2,   20,  200, 2000],\n",
       "       [   3,   30,  300, 3000]])\n",
       "Coordinates:\n",
       "  * base       (base) int64 1 2 3\n",
       "  * magnitude  (magnitude) int64 1 10 100 1000"
      ]
     },
     "execution_count": 105,
     "metadata": {},
     "output_type": "execute_result"
    }
   ],
   "source": [
    "da = a*b\n",
    "da.assign_coords(base=a.values, magnitude=b.values)"
   ]
  },
  {
   "cell_type": "code",
   "execution_count": null,
   "metadata": {},
   "outputs": [],
   "source": []
  },
  {
   "cell_type": "code",
   "execution_count": null,
   "metadata": {},
   "outputs": [],
   "source": []
  },
  {
   "cell_type": "code",
   "execution_count": null,
   "metadata": {},
   "outputs": [],
   "source": []
  },
  {
   "cell_type": "code",
   "execution_count": 9,
   "metadata": {},
   "outputs": [
    {
     "data": {
      "text/plain": [
       "<module 'xarray.tutorial' from '/Users/oberrauch/miniconda3/envs/oggm_env/lib/python3.6/site-packages/xarray/tutorial.py'>"
      ]
     },
     "execution_count": 9,
     "metadata": {},
     "output_type": "execute_result"
    }
   ],
   "source": [
    "xr.tutorial."
   ]
  },
  {
   "cell_type": "code",
   "execution_count": 11,
   "metadata": {},
   "outputs": [],
   "source": [
    "ds = xr.tutorial.load_dataset('air_temperature')"
   ]
  },
  {
   "cell_type": "code",
   "execution_count": 14,
   "metadata": {},
   "outputs": [
    {
     "data": {
      "text/plain": [
       "<xarray.Dataset>\n",
       "Dimensions:  (lat: 25, lon: 53, time: 2920)\n",
       "Coordinates:\n",
       "  * lat      (lat) float32 75.0 72.5 70.0 67.5 65.0 62.5 60.0 57.5 55.0 52.5 ...\n",
       "  * lon      (lon) float32 200.0 202.5 205.0 207.5 210.0 212.5 215.0 217.5 ...\n",
       "  * time     (time) datetime64[ns] 2013-01-01 2013-01-01T06:00:00 ...\n",
       "Data variables:\n",
       "    air      (time, lat, lon) float32 241.2 242.5 243.5 244.0 244.09999 ...\n",
       "Attributes:\n",
       "    Conventions:  COARDS\n",
       "    title:        4x daily NMC reanalysis (1948)\n",
       "    description:  Data is from NMC initialized reanalysis\\n(4x/day).  These a...\n",
       "    platform:     Model\n",
       "    references:   http://www.esrl.noaa.gov/psd/data/gridded/data.ncep.reanaly..."
      ]
     },
     "execution_count": 14,
     "metadata": {},
     "output_type": "execute_result"
    }
   ],
   "source": [
    "ds"
   ]
  },
  {
   "cell_type": "code",
   "execution_count": null,
   "metadata": {},
   "outputs": [],
   "source": []
  }
 ],
 "metadata": {
  "kernelspec": {
   "display_name": "Python 3",
   "language": "python",
   "name": "python3"
  },
  "language_info": {
   "codemirror_mode": {
    "name": "ipython",
    "version": 3
   },
   "file_extension": ".py",
   "mimetype": "text/x-python",
   "name": "python",
   "nbconvert_exporter": "python",
   "pygments_lexer": "ipython3",
   "version": "3.6.5"
  }
 },
 "nbformat": 4,
 "nbformat_minor": 2
}
